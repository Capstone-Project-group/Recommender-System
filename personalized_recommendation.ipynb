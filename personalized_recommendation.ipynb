{
 "cells": [
  {
   "cell_type": "markdown",
   "id": "90e8848b",
   "metadata": {},
   "source": [
    "# Personalized Recommendation"
   ]
  },
  {
   "cell_type": "code",
   "execution_count": 15,
   "id": "5e8421b2",
   "metadata": {},
   "outputs": [],
   "source": [
    "import numpy as np\n",
    "import operator\n",
    "from scipy import spatial\n",
    "import json\n",
    "\n",
    "\n",
    "anime_dictionary = json.load(open('anime_dictionary.json'))\n",
    "if not anime_dictionary:\n",
    "    print(\"anime_dictionary is not loading\")"
   ]
  },
  {
   "cell_type": "code",
   "execution_count": 16,
   "id": "e71b3a83",
   "metadata": {},
   "outputs": [],
   "source": [
    "class User:\n",
    "    num_of_users = 0\n",
    "    \n",
    "    def __init__(self, name, email, genres = None):\n",
    "        self.name = name\n",
    "        self.email = email\n",
    "        if genres is None:\n",
    "            self.genres = np.zeros[43]\n",
    "        else:\n",
    "            self.genres = genres\n",
    "        \n",
    "        User.num_of_users += 1\n",
    "    \n",
    "    def __repr__(self):\n",
    "        return \"User('{}', '{}', {})\".format(self.name, self.email, self.genres)\n",
    "    \n",
    "#     def __str__(self):\n",
    "#         return '{}, {}, {}'.format(self.get_name(), self.get_email(), self.get_genres())\n",
    "        \n",
    "    def update_interest(self, new_genres):\n",
    "        current_genres = self.genres\n",
    "        count_similarity = 0\n",
    "        for genre in new_genres:\n",
    "            if genre in current_genres:\n",
    "                count_similarity += 1\n",
    "        if count_similarity > 4:\n",
    "            self.genres = new_genres\n",
    "            \n",
    "    def get_genres(self, a_user):\n",
    "        if a_user in self.user:\n",
    "            return a_user.genres\n",
    "        return None\n",
    "                \n",
    "    def total_users(self):\n",
    "        return num_of_users;\n",
    "                 \n",
    "    def remove_user(self, username):\n",
    "        if username in self.name:\n",
    "            username.remove()\n",
    "                \n",
    "        \n",
    "     "
   ]
  },
  {
   "cell_type": "code",
   "execution_count": 17,
   "id": "3e77c6bf",
   "metadata": {},
   "outputs": [
    {
     "name": "stdout",
     "output_type": "stream",
     "text": [
      "User('Brang', 'brang@email.com', [0. 0. 0. 0. 0. 0. 0. 0. 0. 0. 0. 0. 0. 0. 0. 0. 0. 0. 0. 0. 0. 0. 0. 0.\n",
      " 0. 0. 0. 0. 0. 0. 0. 0. 0. 0. 0. 0. 0. 0. 0. 0. 0. 0. 0.])\n",
      "User('Brang', 'brang@email.com', [1, 0, 0, 0, 0, 0, 1, 0, 0, 0, 0, 0, 0, 0, 0, 0, 1, 0, 0, 0, 0, 1, 0, 1, 0, 0, 0, 0, 0, 0, 0, 0, 0, 0, 0, 0, 0, 0, 1, 0, 0, 0, 0])\n"
     ]
    }
   ],
   "source": [
    "anime_genres = np.zeros(43)\n",
    "\n",
    "\n",
    "brang = User(\"Brang\", \"brang@email.com\", anime_genres)\n",
    "print(brang)\n",
    "\n",
    "genres = [1, 0, 0, 0, 0, 0, 1, 0, 0, 0, 0, 0, 0, 0, 0, 0, 1, 0, 0, 0, 0, 1, 0, 1, 0, 0, 0, 0, 0, 0, 0, 0, 0, 0, 0, 0, 0, 0, 1, 0, 0, 0, 0]\n",
    "brang.update_interest(genres)\n",
    "print(brang)\n",
    "\n"
   ]
  },
  {
   "cell_type": "code",
   "execution_count": 18,
   "id": "c84ba645",
   "metadata": {},
   "outputs": [],
   "source": [
    "def get_distance(anime_genres, anime_two):\n",
    "    genre_two = anime_two[1]\n",
    "    genre_similarity = spatial.distance.cosine(anime_genres, genre_two)\n",
    "    return genre_similarity\n",
    "\n",
    "\n",
    "def nearest_neighbors(input_genres, K):\n",
    "    distances = []\n",
    "    for anime in anime_dictionary:\n",
    "        dist = get_distance(input_genres, anime_dictionary[anime])\n",
    "        distances.append((anime, dist))\n",
    "    distances.sort(key=operator.itemgetter(1)) # Sort the distances of animes\n",
    "    neighbors = []\n",
    "    for i in range(K):\n",
    "        percent_matched = int(100 - distances[i][1])\n",
    "        neighbors.append( (distances[i][0], percent_matched) )\n",
    "\n",
    "\n",
    "    return neighbors"
   ]
  },
  {
   "cell_type": "code",
   "execution_count": 19,
   "id": "c0381b9a",
   "metadata": {},
   "outputs": [
    {
     "name": "stdout",
     "output_type": "stream",
     "text": [
      "\n",
      "Top 10 Recommended Animes for User('Brang', 'brang@email.com', [1, 0, 0, 0, 0, 0, 1, 0, 0, 0, 0, 0, 0, 0, 0, 0, 1, 0, 0, 0, 0, 1, 0, 1, 0, 0, 0, 0, 0, 0, 0, 0, 0, 0, 0, 0, 0, 0, 1, 0, 0, 0, 0]): \n",
      "--------------------------------------------\n",
      "1. Witch Hunter Robin, (100% matched)\n",
      "2. Tokyo Babylon, (99% matched)\n",
      "3. Kishibe Rohan wa Ugokanai, (99% matched)\n",
      "4. Kara no Kyoukai 3: Tsuukaku Zanryuu, (99% matched)\n",
      "5. Noir, (99% matched)\n",
      "6. Switch, (99% matched)\n",
      "7. Yakushiji Ryouko no Kaiki Jikenbo, (99% matched)\n",
      "8. Durarara!!, (99% matched)\n",
      "9. Ore no Sora Keiji-hen, (99% matched)\n",
      "10. Anemone, (99% matched)\n"
     ]
    }
   ],
   "source": [
    "K = 10\n",
    "nearest_neighbors = nearest_neighbors(genres, K)\n",
    "print(f\"\\nTop 10 Recommended Animes for {brang}: \")\n",
    "print(\"--------------------------------------------\")\n",
    "no = 1\n",
    "\n",
    "top_ten = {}\n",
    "for neighbor, percentage in nearest_neighbors:\n",
    "    top_ten[no] = neighbor\n",
    "    print(f'{no}. {anime_dictionary[neighbor][0]}, ({percentage}% matched)')\n",
    "    no += 1     \n"
   ]
  },
  {
   "cell_type": "code",
   "execution_count": 20,
   "id": "10a602c1",
   "metadata": {},
   "outputs": [
    {
     "name": "stdout",
     "output_type": "stream",
     "text": [
      "Select your animie number: 1\n",
      "[1, 0, 0, 0, 0, 0, 1, 0, 0, 0, 0, 0, 0, 0, 0, 0, 1, 0, 0, 0, 0, 1, 0, 1, 0, 0, 0, 0, 0, 0, 0, 0, 0, 0, 0, 0, 0, 0, 1, 0, 0, 0, 0]\n"
     ]
    }
   ],
   "source": [
    "selection = int(input(\"Select your animie number: \"))\n",
    "\n",
    "liked_anime = top_ten[selection]\n",
    "liked_genres = anime_dictionary[top_ten[selection]][1]\n",
    "brang.update_interest(liked_genres)\n",
    "\n",
    "print(liked_genres)"
   ]
  },
  {
   "cell_type": "code",
   "execution_count": 21,
   "id": "33ca17d1",
   "metadata": {},
   "outputs": [
    {
     "name": "stdout",
     "output_type": "stream",
     "text": [
      "User('Brang', 'brang@email.com', [1, 0, 0, 0, 0, 0, 1, 0, 0, 0, 0, 0, 0, 0, 0, 0, 1, 0, 0, 0, 0, 1, 0, 1, 0, 0, 0, 0, 0, 0, 0, 0, 0, 0, 0, 0, 0, 0, 1, 0, 0, 0, 0])\n"
     ]
    }
   ],
   "source": [
    "print(brang)"
   ]
  },
  {
   "cell_type": "code",
   "execution_count": null,
   "id": "0cc2edd5",
   "metadata": {},
   "outputs": [],
   "source": []
  }
 ],
 "metadata": {
  "kernelspec": {
   "display_name": "Python 3 (ipykernel)",
   "language": "python",
   "name": "python3"
  },
  "language_info": {
   "codemirror_mode": {
    "name": "ipython",
    "version": 3
   },
   "file_extension": ".py",
   "mimetype": "text/x-python",
   "name": "python",
   "nbconvert_exporter": "python",
   "pygments_lexer": "ipython3",
   "version": "3.9.7"
  }
 },
 "nbformat": 4,
 "nbformat_minor": 5
}
