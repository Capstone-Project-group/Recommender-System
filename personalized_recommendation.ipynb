{
 "cells": [
  {
   "cell_type": "markdown",
   "id": "90e8848b",
   "metadata": {},
   "source": [
    "# Personalized Recommendation"
   ]
  },
  {
   "cell_type": "code",
   "execution_count": 103,
   "id": "6042bf43",
   "metadata": {},
   "outputs": [],
   "source": [
    "import numpy as np\n",
    "import operator\n",
    "from scipy import spatial\n",
    "import json\n",
    "\n",
    "\n",
    "anime_dictionary = json.load(open('anime_dictionary.json'))\n",
    "if not anime_dictionary:\n",
    "    print(\"anime_dictionary is not loading\")"
   ]
  },
  {
   "cell_type": "code",
   "execution_count": 104,
   "id": "e71b3a83",
   "metadata": {},
   "outputs": [],
   "source": [
    "class User:\n",
    "    def __init__(self, user = {}):\n",
    "        self.user = user\n",
    "        \n",
    "    def __str__(self):\n",
    "        return self.user['name'] \n",
    "        \n",
    "    def update_interest(self, new_genres):\n",
    "        current_genres = self.user['genres']\n",
    "        count_similarity = 0\n",
    "        for genre in new_genres:\n",
    "            if genre in current_genres:\n",
    "                count_similarity += 1\n",
    "        if count_similarity > 4:\n",
    "            self.user['genres'] = new_genres\n",
    "            \n",
    "    def get_genres(self):\n",
    "        return self.user['genres'][:]\n",
    "            \n",
    "    def get_info(self):\n",
    "        print(f\"{self.user['name']}: {self.user['genres'][:]}\")   \n",
    "     "
   ]
  },
  {
   "cell_type": "code",
   "execution_count": 105,
   "id": "4968691e",
   "metadata": {},
   "outputs": [
    {
     "name": "stdout",
     "output_type": "stream",
     "text": [
      "First\n",
      "Brang: [0. 0. 0. 0. 0. 0. 0. 0. 0. 0. 0. 0. 0. 0. 0. 0. 0. 0. 0. 0. 0. 0. 0. 0.\n",
      " 0. 0. 0. 0. 0. 0. 0. 0. 0. 0. 0. 0. 0. 0. 0. 0. 0. 0. 0.]\n",
      "Second\n",
      "Brang: [1, 0, 0, 0, 0, 0, 1, 0, 0, 0, 0, 0, 0, 0, 0, 0, 1, 0, 0, 0, 0, 1, 0, 1, 0, 0, 0, 0, 0, 0, 0, 0, 0, 0, 0, 0, 0, 0, 1, 0, 0, 0, 0]\n"
     ]
    }
   ],
   "source": [
    "anime_genres = np.zeros(43)\n",
    "\n",
    "newUser = {'name':'Brang', 'genres': anime_genres}\n",
    "\n",
    "brang = User(newUser)\n",
    "print(\"First\")\n",
    "brang.get_info()\n",
    "\n",
    "genres = [1, 0, 0, 0, 0, 0, 1, 0, 0, 0, 0, 0, 0, 0, 0, 0, 1, 0, 0, 0, 0, 1, 0, 1, 0, 0, 0, 0, 0, 0, 0, 0, 0, 0, 0, 0, 0, 0, 1, 0, 0, 0, 0]\n",
    "\n",
    "brang.update_interest(genres)\n",
    "print(\"Second\")\n",
    "brang.get_info()\n",
    "\n"
   ]
  },
  {
   "cell_type": "code",
   "execution_count": 110,
   "id": "1ce48818",
   "metadata": {},
   "outputs": [],
   "source": [
    "def get_distance(anime_genres, anime_two):\n",
    "    genre_two = anime_two[1]\n",
    "    genre_similarity = spatial.distance.cosine(anime_genres, genre_two)\n",
    "    return genre_similarity\n",
    "\n",
    "\n",
    "def nearest_neighbors(input_genres, K):\n",
    "    distances = []\n",
    "    for anime in anime_dictionary:\n",
    "        dist = get_distance(input_genres, anime_dictionary[anime])\n",
    "        distances.append((anime, dist))\n",
    "    distances.sort(key=operator.itemgetter(1)) # Sort the distances of animes\n",
    "    neighbors = []\n",
    "    for i in range(K):\n",
    "        percent_matched = int(100 - distances[i][1])\n",
    "        neighbors.append( (distances[i][0], percent_matched) )\n",
    "    return neighbors"
   ]
  },
  {
   "cell_type": "code",
   "execution_count": 111,
   "id": "15a65c83",
   "metadata": {},
   "outputs": [
    {
     "name": "stdout",
     "output_type": "stream",
     "text": [
      "\n",
      "Top 10 Recommended Animes for Brang: \n",
      "--------------------------------------------\n",
      "1. Witch Hunter Robin, (100% matched)\n",
      "2. Tokyo Babylon, (99% matched)\n",
      "3. Kishibe Rohan wa Ugokanai, (99% matched)\n",
      "4. Kara no Kyoukai 3: Tsuukaku Zanryuu, (99% matched)\n",
      "5. Noir, (99% matched)\n",
      "6. Switch, (99% matched)\n",
      "7. Yakushiji Ryouko no Kaiki Jikenbo, (99% matched)\n",
      "8. Durarara!!, (99% matched)\n",
      "9. Ore no Sora Keiji-hen, (99% matched)\n",
      "10. Anemone, (99% matched)\n"
     ]
    }
   ],
   "source": [
    "K = 10\n",
    "nearest_neighbors = nearest_neighbors(genres, K)\n",
    "print(f\"\\nTop 10 Recommended Animes for {brang}: \")\n",
    "print(\"--------------------------------------------\")\n",
    "no = 1\n",
    "for neighbor, percentage in nearest_neighbors:\n",
    "    print(f'{no}. {anime_dictionary[neighbor][0]}, ({percentage}% matched)')\n",
    "    no += 1     \n",
    "\n"
   ]
  },
  {
   "cell_type": "code",
   "execution_count": null,
   "id": "f671241a",
   "metadata": {},
   "outputs": [],
   "source": []
  }
 ],
 "metadata": {
  "kernelspec": {
   "display_name": "Python 3 (ipykernel)",
   "language": "python",
   "name": "python3"
  },
  "language_info": {
   "codemirror_mode": {
    "name": "ipython",
    "version": 3
   },
   "file_extension": ".py",
   "mimetype": "text/x-python",
   "name": "python",
   "nbconvert_exporter": "python",
   "pygments_lexer": "ipython3",
   "version": "3.9.7"
  }
 },
 "nbformat": 4,
 "nbformat_minor": 5
}
