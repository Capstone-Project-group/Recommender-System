{
 "cells": [
  {
   "cell_type": "markdown",
   "id": "90e8848b",
   "metadata": {},
   "source": [
    "# Personalized Recommendation"
   ]
  },
  {
   "cell_type": "code",
   "execution_count": 92,
   "id": "e71b3a83",
   "metadata": {},
   "outputs": [],
   "source": [
    "import numpy as np\n",
    "import operator\n",
    "from scipy import spatial\n",
    "\n",
    "\n",
    "class User:\n",
    "    def __init__(self, user = {}):\n",
    "        self.user = user\n",
    "        \n",
    "    def __str__(self):\n",
    "        return self.user['name'] \n",
    "        \n",
    "    def update_interest(self, new_genres):\n",
    "        current_genres = self.user['genres']\n",
    "        count_similarity = 0\n",
    "        for genre in new_genres:\n",
    "            if genre in current_genres:\n",
    "                count_similarity += 1\n",
    "        if count_similarity > 4:\n",
    "            self.user['genres'] = new_genres\n",
    "            \n",
    "    def get_info(self):\n",
    "        print(f\"{self.user['name']}: {self.user['genres'][:]}\")   \n",
    "     "
   ]
  },
  {
   "cell_type": "code",
   "execution_count": 93,
   "id": "63668ef1",
   "metadata": {},
   "outputs": [
    {
     "name": "stdout",
     "output_type": "stream",
     "text": [
      "First\n",
      "Brang: [0. 0. 0. 0. 0. 0. 0. 0. 0. 0. 0. 0. 0. 0. 0. 0. 0. 0. 0. 0. 0. 0. 0. 0.\n",
      " 0. 0. 0. 0. 0. 0. 0. 0. 0. 0. 0. 0. 0. 0. 0. 0. 0. 0. 0.]\n",
      "Second\n",
      "Brang: [1, 0, 0, 0, 0, 0, 1, 0, 0, 0, 0, 0, 0, 0, 0, 0, 1, 0, 0, 0, 0, 1, 0, 1, 0, 0, 0, 0, 0, 0, 0, 0, 0, 0, 0, 0, 0, 0, 1, 0, 0, 0, 0]\n"
     ]
    }
   ],
   "source": [
    "anime_genres = np.zeros(43)\n",
    "\n",
    "newUser = {'name':'Brang', 'genres': anime_genres}\n",
    "\n",
    "brang = User(newUser)\n",
    "print(\"First\")\n",
    "brang.get_info()\n",
    "\n",
    "genres = [1, 0, 0, 0, 0, 0, 1, 0, 0, 0, 0, 0, 0, 0, 0, 0, 1, 0, 0, 0, 0, 1, 0, 1, 0, 0, 0, 0, 0, 0, 0, 0, 0, 0, 0, 0, 0, 0, 1, 0, 0, 0, 0]\n",
    "\n",
    "brang.update_interest(genres)\n",
    "print(\"Second\")\n",
    "brang.get_info()\n",
    "\n"
   ]
  },
  {
   "cell_type": "code",
   "execution_count": null,
   "id": "2223d37c",
   "metadata": {},
   "outputs": [],
   "source": []
  },
  {
   "cell_type": "code",
   "execution_count": null,
   "id": "e49484a3",
   "metadata": {},
   "outputs": [],
   "source": []
  }
 ],
 "metadata": {
  "kernelspec": {
   "display_name": "Python 3 (ipykernel)",
   "language": "python",
   "name": "python3"
  },
  "language_info": {
   "codemirror_mode": {
    "name": "ipython",
    "version": 3
   },
   "file_extension": ".py",
   "mimetype": "text/x-python",
   "name": "python",
   "nbconvert_exporter": "python",
   "pygments_lexer": "ipython3",
   "version": "3.9.7"
  }
 },
 "nbformat": 4,
 "nbformat_minor": 5
}
