{
 "cells": [
  {
   "cell_type": "code",
   "execution_count": 1,
   "id": "2e049047",
   "metadata": {},
   "outputs": [],
   "source": [
    "import json\n",
    "import pandas as pd\n",
    "import operator\n",
    "from scipy import spatial\n",
    "\n",
    "anime_dictionary = json.load(open('anime_dictionary.json'))\n",
    "\n",
    "# for key in anime_dictionary:\n",
    "#     print(anime_dictionary[key])\n"
   ]
  },
  {
   "cell_type": "code",
   "execution_count": 2,
   "id": "e66f2591",
   "metadata": {},
   "outputs": [
    {
     "name": "stdout",
     "output_type": "stream",
     "text": [
      "['Cowboy Bebop', [1, 1, 0, 1, 0, 0, 1, 0, 0, 0, 0, 0, 0, 0, 0, 0, 0, 0, 0, 0, 0, 0, 0, 0, 0, 0, 0, 0, 1, 0, 0, 0, 0, 0, 0, 1, 0, 0, 0, 0, 0, 0, 0]]\n",
      "['One Piece', [1, 1, 0, 1, 0, 0, 1, 0, 1, 0, 0, 0, 0, 0, 0, 0, 0, 0, 0, 0, 0, 0, 0, 0, 0, 0, 0, 0, 0, 0, 0, 0, 1, 0, 0, 0, 0, 1, 0, 0, 0, 0, 0]]\n",
      "<class 'list'>\n"
     ]
    }
   ],
   "source": [
    "print(anime_dictionary['1'])\n",
    "print(anime_dictionary['12'])\n",
    "\n",
    "print(type(anime_dictionary['1']))\n"
   ]
  },
  {
   "cell_type": "code",
   "execution_count": 3,
   "id": "01acffcb",
   "metadata": {},
   "outputs": [],
   "source": [
    "def get_distance(anime_one, anime_two):\n",
    "    genre_one = anime_one[1]\n",
    "    genre_two = anime_two[1]\n",
    "    genre_similarity = spatial.distance.cosine(genre_one, genre_two)\n",
    "    return genre_similarity\n",
    "    "
   ]
  },
  {
   "cell_type": "code",
   "execution_count": 4,
   "id": "51f4285c",
   "metadata": {},
   "outputs": [
    {
     "data": {
      "text/plain": [
       "0.38278660015163235"
      ]
     },
     "execution_count": 4,
     "metadata": {},
     "output_type": "execute_result"
    }
   ],
   "source": [
    "# if distance is 0, the anime is the same.\n",
    "# The higher the number, the more dissimlar animes they are\n",
    "\n",
    "get_distance(anime_dictionary['1'], anime_dictionary['12'])"
   ]
  },
  {
   "cell_type": "code",
   "execution_count": 9,
   "id": "dc48c891",
   "metadata": {},
   "outputs": [
    {
     "name": "stdout",
     "output_type": "stream",
     "text": [
      "The nearest similar animes to Monster: \n",
      "------------------------------------------\n",
      "1. Mousou Dairinin\n",
      "2. Monster Extra\n",
      "3. Hello Harinezumi: Satsui no Ryoubun\n",
      "4. Dwaejiui Wang\n",
      "5. Higurashi no Naku Koro ni Kaku: Outbreak\n",
      "6. Celebration and Chorale\n",
      "7. Tokyo Ghoul \"A\n",
      "8. Boku wa Tomodachi ga Sukunai\n",
      "9. Higurashi no Naku Koro ni\n",
      "10. Night Head Genesis\n"
     ]
    }
   ],
   "source": [
    "def get_nearest_neighbors(anime_id: str, K: int):\n",
    "    distances = []\n",
    "    for anime in anime_dictionary:\n",
    "        if anime != anime_id:\n",
    "            dist = get_distance(anime_dictionary[anime_id], anime_dictionary[anime])\n",
    "            distances.append((anime, dist))\n",
    "    distances.sort(key=operator.itemgetter(1)) # Sort the distances of animes\n",
    "    neighbors = []\n",
    "    for i in range(K):\n",
    "        neighbors.append(distances[i][0])\n",
    "    return neighbors\n",
    "\n",
    "K = 10\n",
    "anime_id = str(10)\n",
    "average_rating = 0\n",
    "nearest_neighbors = get_nearest_neighbors(anime_id, K)\n",
    "print(f\"The nearest similar animes to {anime_dictionary[anime_id][0]}: \")\n",
    "print(\"------------------------------------------\")\n",
    "no = 1\n",
    "for neighbor in nearest_neighbors:\n",
    "    print(f'{no}. {anime_dictionary[neighbor][0]}')\n",
    "    no += 1"
   ]
  },
  {
   "cell_type": "code",
   "execution_count": null,
   "id": "c415da3f",
   "metadata": {},
   "outputs": [],
   "source": []
  },
  {
   "cell_type": "code",
   "execution_count": null,
   "id": "37fcea8d",
   "metadata": {},
   "outputs": [],
   "source": []
  }
 ],
 "metadata": {
  "kernelspec": {
   "display_name": "Python 3 (ipykernel)",
   "language": "python",
   "name": "python3"
  },
  "language_info": {
   "codemirror_mode": {
    "name": "ipython",
    "version": 3
   },
   "file_extension": ".py",
   "mimetype": "text/x-python",
   "name": "python",
   "nbconvert_exporter": "python",
   "pygments_lexer": "ipython3",
   "version": "3.9.7"
  }
 },
 "nbformat": 4,
 "nbformat_minor": 5
}
