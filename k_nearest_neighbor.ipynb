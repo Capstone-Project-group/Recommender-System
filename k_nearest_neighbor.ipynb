{
 "cells": [
  {
   "cell_type": "code",
   "execution_count": 13,
   "id": "e5fa8c6c",
   "metadata": {},
   "outputs": [],
   "source": [
    "import json\n",
    "import pandas as pd\n",
    "import operator\n",
    "from scipy import spatial\n",
    "\n",
    "anime_dictionary = json.load(open('anime_dictionary.json'))\n",
    "\n",
    "# for key in anime_dictionary:\n",
    "#     print(anime_dictionary[key])\n"
   ]
  },
  {
   "cell_type": "code",
   "execution_count": 14,
   "id": "96bb046d",
   "metadata": {},
   "outputs": [
    {
     "name": "stdout",
     "output_type": "stream",
     "text": [
      "['Cowboy Bebop', [1, 1, 0, 1, 0, 0, 1, 0, 0, 0, 0, 0, 0, 0, 0, 0, 0, 0, 0, 0, 0, 0, 0, 0, 0, 0, 0, 0, 1, 0, 0, 0, 0, 0, 0, 1, 0, 0, 0, 0, 0, 0, 0]]\n",
      "['One Piece', [1, 1, 0, 1, 0, 0, 1, 0, 1, 0, 0, 0, 0, 0, 0, 0, 0, 0, 0, 0, 0, 0, 0, 0, 0, 0, 0, 0, 0, 0, 0, 0, 1, 0, 0, 0, 0, 1, 0, 0, 0, 0, 0]]\n"
     ]
    }
   ],
   "source": [
    "print(anime_dictionary['1'])\n",
    "print(anime_dictionary['12'])\n"
   ]
  },
  {
   "cell_type": "code",
   "execution_count": 15,
   "id": "781683cf",
   "metadata": {},
   "outputs": [
    {
     "data": {
      "text/plain": [
       "0.38278660015163235"
      ]
     },
     "execution_count": 15,
     "metadata": {},
     "output_type": "execute_result"
    }
   ],
   "source": [
    "def get_distance(x, y):\n",
    "    genre_one = x[1]\n",
    "    genre_two = y[1]\n",
    "    genre_similarity = spatial.distance.cosine(genre_one, genre_two)\n",
    "    return genre_similarity\n",
    "\n",
    "get_distance(anime_dictionary['1'], anime_dictionary['12'])\n",
    "    "
   ]
  },
  {
   "cell_type": "code",
   "execution_count": 23,
   "id": "ccb7f12e",
   "metadata": {},
   "outputs": [
    {
     "name": "stdout",
     "output_type": "stream",
     "text": [
      "The nearest similar animes to Cowboy Bebop: \n",
      "------------------------------------------\n",
      "1. Cowboy Bebop: Yose Atsume Blues\n",
      "2. Seihou Tenshi Angel Links\n",
      "3. Seihou Bukyou Outlaw Star\n",
      "4. Ginga Tetsudou Monogatari\n",
      "5. Waga Seishun no Arcadia\n"
     ]
    }
   ],
   "source": [
    "def get_nearest_neighbors(anime_id: str, K: int):\n",
    "    distances = []\n",
    "    for anime in anime_dictionary:\n",
    "        if anime != anime_id:\n",
    "            dist = get_distance(anime_dictionary[anime_id], anime_dictionary[anime])\n",
    "            distances.append((anime, dist))\n",
    "    distances.sort(key=operator.itemgetter(1))\n",
    "    neighbors = []\n",
    "    for i in range(K):\n",
    "        neighbors.append(distances[i][0])\n",
    "    return neighbors\n",
    "\n",
    "K = 5\n",
    "average_rating = 0\n",
    "nearest_neighbors = get_nearest_neighbors('1', K)\n",
    "print(f\"The nearest similar animes to {anime_dictionary['1'][0]}: \")\n",
    "print(\"------------------------------------------\")\n",
    "no = 1\n",
    "for neighbor in nearest_neighbors:\n",
    "    print(f'{no}. {anime_dictionary[neighbor][0]}')\n",
    "    no += 1"
   ]
  },
  {
   "cell_type": "code",
   "execution_count": null,
   "id": "db3f13de",
   "metadata": {},
   "outputs": [],
   "source": []
  },
  {
   "cell_type": "code",
   "execution_count": null,
   "id": "efedc2a3",
   "metadata": {},
   "outputs": [],
   "source": []
  }
 ],
 "metadata": {
  "kernelspec": {
   "display_name": "Python 3 (ipykernel)",
   "language": "python",
   "name": "python3"
  },
  "language_info": {
   "codemirror_mode": {
    "name": "ipython",
    "version": 3
   },
   "file_extension": ".py",
   "mimetype": "text/x-python",
   "name": "python",
   "nbconvert_exporter": "python",
   "pygments_lexer": "ipython3",
   "version": "3.9.7"
  }
 },
 "nbformat": 4,
 "nbformat_minor": 5
}
