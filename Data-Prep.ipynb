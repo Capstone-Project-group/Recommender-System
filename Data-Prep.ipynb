{
 "cells": [
  {
   "cell_type": "code",
   "execution_count": 1,
   "id": "b14de00a",
   "metadata": {},
   "outputs": [
    {
     "name": "stderr",
     "output_type": "stream",
     "text": [
      "/Users/brangmai/opt/anaconda3/lib/python3.9/site-packages/IPython/core/interactiveshell.py:3444: DtypeWarning: Columns (0,1,2) have mixed types.Specify dtype option on import or set low_memory=False.\n",
      "  exec(code_obj, self.user_global_ns, self.user_ns)\n"
     ]
    },
    {
     "data": {
      "text/html": [
       "<div>\n",
       "<style scoped>\n",
       "    .dataframe tbody tr th:only-of-type {\n",
       "        vertical-align: middle;\n",
       "    }\n",
       "\n",
       "    .dataframe tbody tr th {\n",
       "        vertical-align: top;\n",
       "    }\n",
       "\n",
       "    .dataframe thead th {\n",
       "        text-align: right;\n",
       "    }\n",
       "</style>\n",
       "<table border=\"1\" class=\"dataframe\">\n",
       "  <thead>\n",
       "    <tr style=\"text-align: right;\">\n",
       "      <th></th>\n",
       "      <th>user_id</th>\n",
       "      <th>anime_id</th>\n",
       "      <th>rating</th>\n",
       "    </tr>\n",
       "  </thead>\n",
       "  <tbody>\n",
       "    <tr>\n",
       "      <th>1</th>\n",
       "      <td>1</td>\n",
       "      <td>8074</td>\n",
       "      <td>10</td>\n",
       "    </tr>\n",
       "    <tr>\n",
       "      <th>2</th>\n",
       "      <td>1</td>\n",
       "      <td>11617</td>\n",
       "      <td>10</td>\n",
       "    </tr>\n",
       "    <tr>\n",
       "      <th>3</th>\n",
       "      <td>1</td>\n",
       "      <td>11757</td>\n",
       "      <td>10</td>\n",
       "    </tr>\n",
       "    <tr>\n",
       "      <th>4</th>\n",
       "      <td>1</td>\n",
       "      <td>15451</td>\n",
       "      <td>10</td>\n",
       "    </tr>\n",
       "    <tr>\n",
       "      <th>5</th>\n",
       "      <td>2</td>\n",
       "      <td>11771</td>\n",
       "      <td>10</td>\n",
       "    </tr>\n",
       "  </tbody>\n",
       "</table>\n",
       "</div>"
      ],
      "text/plain": [
       "  user_id anime_id rating\n",
       "1       1     8074     10\n",
       "2       1    11617     10\n",
       "3       1    11757     10\n",
       "4       1    15451     10\n",
       "5       2    11771     10"
      ]
     },
     "execution_count": 1,
     "metadata": {},
     "output_type": "execute_result"
    }
   ],
   "source": [
    "import pandas as pd\n",
    "import numpy as np\n",
    "import matplotlib.pyplot as plt\n",
    "from pprint import pprint\n",
    "\n",
    "rating_cols = ['user_id', 'anime_id', 'rating']\n",
    "ratings = pd.read_csv('/Users/brangmai/Desktop/Capstone/modified_data/rating.csv', names=rating_cols, usecols=range(3), encoding=\"ISO-8859-1\")\n",
    "ratings = ratings[1:]\n",
    "ratings.head(5)"
   ]
  },
  {
   "cell_type": "code",
   "execution_count": 2,
   "id": "abd48c5a",
   "metadata": {},
   "outputs": [
    {
     "data": {
      "text/html": [
       "<div>\n",
       "<style scoped>\n",
       "    .dataframe tbody tr th:only-of-type {\n",
       "        vertical-align: middle;\n",
       "    }\n",
       "\n",
       "    .dataframe tbody tr th {\n",
       "        vertical-align: top;\n",
       "    }\n",
       "\n",
       "    .dataframe thead tr th {\n",
       "        text-align: left;\n",
       "    }\n",
       "\n",
       "    .dataframe thead tr:last-of-type th {\n",
       "        text-align: right;\n",
       "    }\n",
       "</style>\n",
       "<table border=\"1\" class=\"dataframe\">\n",
       "  <thead>\n",
       "    <tr>\n",
       "      <th></th>\n",
       "      <th colspan=\"2\" halign=\"left\">rating</th>\n",
       "    </tr>\n",
       "    <tr>\n",
       "      <th></th>\n",
       "      <th>size</th>\n",
       "      <th>mean</th>\n",
       "    </tr>\n",
       "    <tr>\n",
       "      <th>anime_id</th>\n",
       "      <th></th>\n",
       "      <th></th>\n",
       "    </tr>\n",
       "  </thead>\n",
       "  <tbody>\n",
       "    <tr>\n",
       "      <th>1</th>\n",
       "      <td>1423</td>\n",
       "      <td>8.889670</td>\n",
       "    </tr>\n",
       "    <tr>\n",
       "      <th>5</th>\n",
       "      <td>704</td>\n",
       "      <td>8.375000</td>\n",
       "    </tr>\n",
       "    <tr>\n",
       "      <th>6</th>\n",
       "      <td>1006</td>\n",
       "      <td>8.395626</td>\n",
       "    </tr>\n",
       "    <tr>\n",
       "      <th>7</th>\n",
       "      <td>285</td>\n",
       "      <td>7.533333</td>\n",
       "    </tr>\n",
       "    <tr>\n",
       "      <th>8</th>\n",
       "      <td>41</td>\n",
       "      <td>7.195122</td>\n",
       "    </tr>\n",
       "  </tbody>\n",
       "</table>\n",
       "</div>"
      ],
      "text/plain": [
       "         rating          \n",
       "           size      mean\n",
       "anime_id                 \n",
       "1          1423  8.889670\n",
       "5           704  8.375000\n",
       "6          1006  8.395626\n",
       "7           285  7.533333\n",
       "8            41  7.195122"
      ]
     },
     "execution_count": 2,
     "metadata": {},
     "output_type": "execute_result"
    }
   ],
   "source": [
    "rating_stats = ratings.groupby('anime_id').agg({'rating': [np.size, np.mean]})\n",
    "rating_stats.head(5)"
   ]
  },
  {
   "cell_type": "code",
   "execution_count": 3,
   "id": "ad92a168",
   "metadata": {},
   "outputs": [
    {
     "data": {
      "text/plain": [
       "13664"
      ]
     },
     "execution_count": 3,
     "metadata": {},
     "output_type": "execute_result"
    }
   ],
   "source": [
    "anime_num_ratings = pd.DataFrame(rating_stats['rating']['size'])\n",
    "\n",
    "min_ratings = int(np.min(anime_num_ratings))\n",
    "max_ratings = int(np.max(anime_num_ratings))\n",
    "\n",
    "normalized_ratings = []\n",
    "for i in anime_num_ratings:\n",
    "    normalized_ratings.append((anime_num_ratings[i] - min_ratings) / (max_ratings - min_ratings))\n",
    "    \n",
    "normalized_ratings = pd.DataFrame(normalized_ratings)\n",
    "#normalized_ratings.head(10)\n",
    "normalized_ratings.size"
   ]
  },
  {
   "cell_type": "code",
   "execution_count": 4,
   "id": "84ae733e",
   "metadata": {},
   "outputs": [
    {
     "data": {
      "text/html": [
       "<div>\n",
       "<style scoped>\n",
       "    .dataframe tbody tr th:only-of-type {\n",
       "        vertical-align: middle;\n",
       "    }\n",
       "\n",
       "    .dataframe tbody tr th {\n",
       "        vertical-align: top;\n",
       "    }\n",
       "\n",
       "    .dataframe thead th {\n",
       "        text-align: right;\n",
       "    }\n",
       "</style>\n",
       "<table border=\"1\" class=\"dataframe\">\n",
       "  <thead>\n",
       "    <tr style=\"text-align: right;\">\n",
       "      <th></th>\n",
       "      <th>anime_id</th>\n",
       "      <th>name</th>\n",
       "      <th>genre</th>\n",
       "      <th>type</th>\n",
       "      <th>episodes</th>\n",
       "      <th>rating</th>\n",
       "    </tr>\n",
       "  </thead>\n",
       "  <tbody>\n",
       "    <tr>\n",
       "      <th>1</th>\n",
       "      <td>1</td>\n",
       "      <td>Cowboy Bebop</td>\n",
       "      <td>Action, Adventure, Comedy, Drama, Sci-Fi, Space</td>\n",
       "      <td>TV</td>\n",
       "      <td>26</td>\n",
       "      <td>8.82</td>\n",
       "    </tr>\n",
       "    <tr>\n",
       "      <th>2</th>\n",
       "      <td>5</td>\n",
       "      <td>Cowboy Bebop: Tengoku no Tobira</td>\n",
       "      <td>Action, Drama, Mystery, Sci-Fi, Space</td>\n",
       "      <td>Movie</td>\n",
       "      <td>1</td>\n",
       "      <td>8.4</td>\n",
       "    </tr>\n",
       "    <tr>\n",
       "      <th>3</th>\n",
       "      <td>6</td>\n",
       "      <td>Trigun</td>\n",
       "      <td>Action, Comedy, Sci-Fi</td>\n",
       "      <td>TV</td>\n",
       "      <td>26</td>\n",
       "      <td>8.32</td>\n",
       "    </tr>\n",
       "    <tr>\n",
       "      <th>4</th>\n",
       "      <td>7</td>\n",
       "      <td>Witch Hunter Robin</td>\n",
       "      <td>Action, Drama, Magic, Mystery, Police, Superna...</td>\n",
       "      <td>TV</td>\n",
       "      <td>26</td>\n",
       "      <td>7.36</td>\n",
       "    </tr>\n",
       "    <tr>\n",
       "      <th>5</th>\n",
       "      <td>8</td>\n",
       "      <td>Beet the Vandel Buster</td>\n",
       "      <td>Adventure, Fantasy, Shounen, Supernatural</td>\n",
       "      <td>TV</td>\n",
       "      <td>52</td>\n",
       "      <td>7.06</td>\n",
       "    </tr>\n",
       "  </tbody>\n",
       "</table>\n",
       "</div>"
      ],
      "text/plain": [
       "  anime_id                             name  \\\n",
       "1        1                     Cowboy Bebop   \n",
       "2        5  Cowboy Bebop: Tengoku no Tobira   \n",
       "3        6                           Trigun   \n",
       "4        7               Witch Hunter Robin   \n",
       "5        8           Beet the Vandel Buster   \n",
       "\n",
       "                                               genre   type episodes rating  \n",
       "1    Action, Adventure, Comedy, Drama, Sci-Fi, Space     TV       26   8.82  \n",
       "2              Action, Drama, Mystery, Sci-Fi, Space  Movie        1    8.4  \n",
       "3                             Action, Comedy, Sci-Fi     TV       26   8.32  \n",
       "4  Action, Drama, Magic, Mystery, Police, Superna...     TV       26   7.36  \n",
       "5          Adventure, Fantasy, Shounen, Supernatural     TV       52   7.06  "
      ]
     },
     "execution_count": 4,
     "metadata": {},
     "output_type": "execute_result"
    }
   ],
   "source": [
    "anime_cols = ['anime_id', 'name', 'genre', 'type', 'episodes', 'rating']\n",
    "anime = pd.read_csv('/Users/brangmai/Desktop/Capstone/modified_data/anime.csv', names=anime_cols, usecols=range(6), encoding=\"ISO-8859-1\")\n",
    "anime = anime[1:]\n",
    "anime = pd.DataFrame(anime)\n",
    "anime.head(5)"
   ]
  },
  {
   "cell_type": "code",
   "execution_count": 5,
   "id": "7dd9826e",
   "metadata": {},
   "outputs": [
    {
     "data": {
      "text/plain": [
       "73764"
      ]
     },
     "execution_count": 5,
     "metadata": {},
     "output_type": "execute_result"
    }
   ],
   "source": [
    "anime.size"
   ]
  },
  {
   "cell_type": "code",
   "execution_count": 6,
   "id": "cec8ee60",
   "metadata": {},
   "outputs": [],
   "source": [
    "# Raw genre strings\n",
    "\n",
    "anime_genres = []\n",
    "\n",
    "for genre in anime['genre']:\n",
    "    if isinstance(genre, str):\n",
    "        #if genre not in anime_genres:\n",
    "        anime_genres.append(genre)\n",
    "        \n",
    "#pprint(anime_genres)\n",
    "# anime_genres = pd.DataFrame(anime_genres)\n",
    "# len(anime_genres.index)"
   ]
  },
  {
   "cell_type": "code",
   "execution_count": 7,
   "id": "0d274fce",
   "metadata": {},
   "outputs": [],
   "source": [
    "genre_types = [] # genre list \n",
    "genre_arrays = []\n",
    "for genres in anime_genres:\n",
    "    split_genre = genres.split(', ')\n",
    "    array_for_genre_array = []\n",
    "    for each_gen in split_genre:\n",
    "        if isinstance(each_gen, str):\n",
    "            array_for_genre_array.append(each_gen)\n",
    "            if each_gen not in genre_types:\n",
    "                genre_types.append(each_gen)\n",
    "    genre_arrays.append(array_for_genre_array)\n",
    "    \n",
    "# genre_types.sort()\n",
    "# print(genre_types)"
   ]
  },
  {
   "cell_type": "code",
   "execution_count": 8,
   "id": "074b1ba8",
   "metadata": {},
   "outputs": [],
   "source": [
    "# for genre in genre_arrays:\n",
    "#     print(genre)"
   ]
  },
  {
   "cell_type": "code",
   "execution_count": 9,
   "id": "19927dcb",
   "metadata": {},
   "outputs": [],
   "source": [
    "# DON'T RUN THIS CODE\n",
    "\n",
    "# Save Genre\n",
    "# output_file = open('genres.txt', 'w')\n",
    "\n",
    "# for gen_type in genre_types:\n",
    "#     output_file.write(gen_type)\n",
    "\n",
    "# output_file.close()\n"
   ]
  },
  {
   "cell_type": "code",
   "execution_count": 10,
   "id": "0eb0a27f",
   "metadata": {},
   "outputs": [],
   "source": [
    "# READ genres.txt line by line\n",
    "anime_genres = []\n",
    "with open('genres.txt') as f:\n",
    "    \n",
    "    for line in f:\n",
    "        line = line.strip('\\n')\n",
    "        anime_genres.append(line) \n",
    "        \n",
    "f.close()\n",
    "# for gen in anime_genres:\n",
    "#     print(gen)"
   ]
  },
  {
   "cell_type": "code",
   "execution_count": 11,
   "id": "8289eaaf",
   "metadata": {},
   "outputs": [],
   "source": [
    "# Anime genres are changed into boolean \n",
    "\n",
    "genres_in_binary = []\n",
    "for genre_list in genre_arrays:\n",
    "    \n",
    "    temp = np.zeros(43)\n",
    "    for gen_item in genre_list:\n",
    "        for gen_type in range(len(anime_genres)):\n",
    "            if gen_item == anime_genres[gen_type]:\n",
    "                temp[gen_type] = 1\n",
    "            \n",
    "    genres_in_binary.append(temp)"
   ]
  },
  {
   "cell_type": "code",
   "execution_count": 12,
   "id": "f85c8b59",
   "metadata": {},
   "outputs": [
    {
     "name": "stdout",
     "output_type": "stream",
     "text": [
      "Total list: 12232\n"
     ]
    }
   ],
   "source": [
    "genre_list = 1\n",
    "for item in genres_in_binary:\n",
    "    genre_list += 1\n",
    "    #print(item)\n",
    "print(f'Total list: {genre_list}')"
   ]
  },
  {
   "cell_type": "code",
   "execution_count": 13,
   "id": "d9baf802",
   "metadata": {},
   "outputs": [],
   "source": [
    "# print(f'Total of anime in the data file: {len(anime.index)}')\n",
    "# genres_in_binary = pd.DataFrame(genres_in_binary)\n",
    "# print(f'Tall genre list: {len(genres_in_binary.index)}')"
   ]
  },
  {
   "cell_type": "code",
   "execution_count": 14,
   "id": "65f5160d",
   "metadata": {},
   "outputs": [],
   "source": [
    "# Total anime list count: 12294\n",
    "# Total genres_in_binary count: 12231\n",
    "\n",
    "anime_dictionary = {}\n",
    "\n",
    "index = 1   \n",
    "for name in anime['name']:\n",
    "    genres = genres_in_binary[index - 1]\n",
    "    genres = map(int, genres)\n",
    "    anime_dictionary[index] = (name, np.array(list(genres)))\n",
    "    index += 1\n",
    "    if index == len(genres_in_binary):\n",
    "        break\n",
    "\n",
    "\n",
    "#print(genres_in_binary[0])\n"
   ]
  },
  {
   "cell_type": "code",
   "execution_count": 15,
   "id": "b58c2cad",
   "metadata": {},
   "outputs": [
    {
     "data": {
      "text/plain": [
       "('Cowboy Bebop',\n",
       " array([1, 1, 0, 1, 0, 0, 1, 0, 0, 0, 0, 0, 0, 0, 0, 0, 0, 0, 0, 0, 0, 0,\n",
       "        0, 0, 0, 0, 0, 0, 1, 0, 0, 0, 0, 0, 0, 1, 0, 0, 0, 0, 0, 0, 0]))"
      ]
     },
     "execution_count": 15,
     "metadata": {},
     "output_type": "execute_result"
    }
   ],
   "source": [
    "anime_dictionary[1]"
   ]
  },
  {
   "cell_type": "markdown",
   "id": "0ae1846f",
   "metadata": {},
   "source": [
    "# Save anime_dictionary in JSON"
   ]
  },
  {
   "cell_type": "code",
   "execution_count": 16,
   "id": "02aaa5f2",
   "metadata": {},
   "outputs": [],
   "source": [
    "# DON'T RUN THIS CODE\n",
    "\n",
    "# import json\n",
    "\n",
    "# anime_dictionary = {}\n",
    "\n",
    "# index = 1   \n",
    "# for name in anime['name']:\n",
    "#     genres = genres_in_binary[index - 1]\n",
    "#     genres = map(int, genres)\n",
    "#     anime_dictionary[index] = (name, np.array(list(genres)).tolist())\n",
    "#     index += 1\n",
    "#     if index == len(genres_in_binary):\n",
    "#         break\n",
    "\n",
    "# anime_dict = json.dumps(anime_dictionary)\n",
    "# with open('anime_dictionary.json', 'w') as f:\n",
    "#     f.write(anime_dict)\n",
    "#     f.close()"
   ]
  },
  {
   "cell_type": "markdown",
   "id": "4c3af329",
   "metadata": {},
   "source": [
    "# Read anime_dictionary JSON file"
   ]
  },
  {
   "cell_type": "code",
   "execution_count": 17,
   "id": "d91cc523",
   "metadata": {},
   "outputs": [],
   "source": [
    "import json\n",
    "import pandas as pd\n",
    "\n",
    "anime_dictionary = json.load(open('anime_dictionary.json'))\n",
    "# for key in anime_dictionary:\n",
    "#     print(anime_dictionary[key])\n",
    "\n",
    "\n",
    "# for ani in anime_dictionary:\n",
    "#     print(ani)\n",
    "# anime_dictionary = pd.DataFrame(anime_dictionary)\n",
    "# anime_dictionary.head()"
   ]
  },
  {
   "cell_type": "code",
   "execution_count": 18,
   "id": "a23e263a",
   "metadata": {},
   "outputs": [
    {
     "data": {
      "text/html": [
       "<div>\n",
       "<style scoped>\n",
       "    .dataframe tbody tr th:only-of-type {\n",
       "        vertical-align: middle;\n",
       "    }\n",
       "\n",
       "    .dataframe tbody tr th {\n",
       "        vertical-align: top;\n",
       "    }\n",
       "\n",
       "    .dataframe thead th {\n",
       "        text-align: right;\n",
       "    }\n",
       "</style>\n",
       "<table border=\"1\" class=\"dataframe\">\n",
       "  <thead>\n",
       "    <tr style=\"text-align: right;\">\n",
       "      <th></th>\n",
       "      <th>anime_id</th>\n",
       "      <th>name</th>\n",
       "      <th>genre</th>\n",
       "      <th>type</th>\n",
       "      <th>episodes</th>\n",
       "      <th>rating</th>\n",
       "      <th>user_id</th>\n",
       "    </tr>\n",
       "  </thead>\n",
       "  <tbody>\n",
       "    <tr>\n",
       "      <th>58</th>\n",
       "      <td>10488</td>\n",
       "      <td>Shocking Pink!</td>\n",
       "      <td>Harem, Hentai</td>\n",
       "      <td>OVA</td>\n",
       "      <td>2</td>\n",
       "      <td>7</td>\n",
       "      <td>2115</td>\n",
       "    </tr>\n",
       "    <tr>\n",
       "      <th>61</th>\n",
       "      <td>11763</td>\n",
       "      <td>Sekai de Ichiban Tsuyoku Naritai!</td>\n",
       "      <td>Action, Ecchi, Sports</td>\n",
       "      <td>TV</td>\n",
       "      <td>12</td>\n",
       "      <td>6</td>\n",
       "      <td>1484</td>\n",
       "    </tr>\n",
       "    <tr>\n",
       "      <th>59</th>\n",
       "      <td>11763</td>\n",
       "      <td>Sekai de Ichiban Tsuyoku Naritai!</td>\n",
       "      <td>Action, Ecchi, Sports</td>\n",
       "      <td>TV</td>\n",
       "      <td>12</td>\n",
       "      <td>6</td>\n",
       "      <td>438</td>\n",
       "    </tr>\n",
       "    <tr>\n",
       "      <th>60</th>\n",
       "      <td>11763</td>\n",
       "      <td>Sekai de Ichiban Tsuyoku Naritai!</td>\n",
       "      <td>Action, Ecchi, Sports</td>\n",
       "      <td>TV</td>\n",
       "      <td>12</td>\n",
       "      <td>6</td>\n",
       "      <td>954</td>\n",
       "    </tr>\n",
       "    <tr>\n",
       "      <th>62</th>\n",
       "      <td>11763</td>\n",
       "      <td>Sekai de Ichiban Tsuyoku Naritai!</td>\n",
       "      <td>Action, Ecchi, Sports</td>\n",
       "      <td>TV</td>\n",
       "      <td>12</td>\n",
       "      <td>6</td>\n",
       "      <td>1497</td>\n",
       "    </tr>\n",
       "  </tbody>\n",
       "</table>\n",
       "</div>"
      ],
      "text/plain": [
       "   anime_id                               name                  genre type  \\\n",
       "58    10488                     Shocking Pink!          Harem, Hentai  OVA   \n",
       "61    11763  Sekai de Ichiban Tsuyoku Naritai!  Action, Ecchi, Sports   TV   \n",
       "59    11763  Sekai de Ichiban Tsuyoku Naritai!  Action, Ecchi, Sports   TV   \n",
       "60    11763  Sekai de Ichiban Tsuyoku Naritai!  Action, Ecchi, Sports   TV   \n",
       "62    11763  Sekai de Ichiban Tsuyoku Naritai!  Action, Ecchi, Sports   TV   \n",
       "\n",
       "   episodes rating user_id  \n",
       "58        2      7    2115  \n",
       "61       12      6    1484  \n",
       "59       12      6     438  \n",
       "60       12      6     954  \n",
       "62       12      6    1497  "
      ]
     },
     "execution_count": 18,
     "metadata": {},
     "output_type": "execute_result"
    }
   ],
   "source": [
    "anime_ratings = pd.merge(anime, ratings)\n",
    "anime_ratings = anime_ratings.sort_values(by='anime_id', ascending=True)\n",
    "anime_ratings.head(5) "
   ]
  },
  {
   "cell_type": "code",
   "execution_count": 19,
   "id": "a77aa010",
   "metadata": {},
   "outputs": [],
   "source": [
    "# anime_stats = anime_ratings.groupby('name').agg({'rating': [np.size, np.mean]})\n",
    "# anime_stats.head(10)"
   ]
  },
  {
   "cell_type": "code",
   "execution_count": 20,
   "id": "48f09977",
   "metadata": {},
   "outputs": [],
   "source": [
    "# popular_animes = anime_stats['rating']['size'] >= 10\n",
    "# ani_stats = anime_stats[popular_animes].sort_values([('rating', 'mean')], ascending=False)\n",
    "# ani_stats.head(50)\n"
   ]
  },
  {
   "cell_type": "code",
   "execution_count": 21,
   "id": "7dd48bba",
   "metadata": {},
   "outputs": [],
   "source": [
    "# user_ratings = anime_ratings.pivot_table(index=['user_id'], columns=['name'], values='rating')\n",
    "# user_ratings.head(10)"
   ]
  },
  {
   "cell_type": "code",
   "execution_count": 22,
   "id": "55a2cc5f",
   "metadata": {},
   "outputs": [],
   "source": [
    "# Find out who watched and rated the anime \"Comet Lucifer\"\n",
    "\n",
    "# comet_lucifer_ratings = user_ratings['Comet Lucifer']\n",
    "# comet_lucifer_ratings = comet_lucifer_ratings.dropna()\n",
    "# comet_lucifer_ratings.head(10)"
   ]
  },
  {
   "cell_type": "code",
   "execution_count": null,
   "id": "4bf1e9ed",
   "metadata": {},
   "outputs": [],
   "source": []
  },
  {
   "cell_type": "code",
   "execution_count": 23,
   "id": "5d4c97e3",
   "metadata": {},
   "outputs": [],
   "source": [
    "# #user_ratings = pd.DataFrame(user_ratings)\n",
    "# similar_anime = user_ratings.corrwith(comet_lucifer_ratings)\n",
    "# #similar_anime = similar_anime.dropna()\n",
    "# df = pd.DataFrame(similar_anime)\n",
    "# df.head(10)"
   ]
  },
  {
   "cell_type": "code",
   "execution_count": 24,
   "id": "7c8f3e88",
   "metadata": {},
   "outputs": [],
   "source": [
    "# similar_anime = similar_anime.sort_values(ascending=False)\n",
    "# similar_anime.head(10)"
   ]
  },
  {
   "cell_type": "code",
   "execution_count": 25,
   "id": "baafa47b",
   "metadata": {},
   "outputs": [],
   "source": [
    "# corr_matrix = user_ratings.corr(method='pearson', min_periods=100) # pearson: standart correlation coefficient\n",
    "# corr_matrix.head(100)"
   ]
  },
  {
   "cell_type": "code",
   "execution_count": null,
   "id": "edf3e485",
   "metadata": {},
   "outputs": [],
   "source": []
  },
  {
   "cell_type": "code",
   "execution_count": 26,
   "id": "fba45282",
   "metadata": {},
   "outputs": [],
   "source": [
    "# normalized_anime_ratings = anime_ratings.apply(lambda x: (x - np.min(x)) / (np.max(x) - np.min(x)))\n",
    "# normalized_anime_ratings.head(10)"
   ]
  },
  {
   "cell_type": "code",
   "execution_count": 27,
   "id": "c9859fde",
   "metadata": {},
   "outputs": [],
   "source": [
    "# import pandas as pd\n",
    "# genres = pd.DataFrame(genres_in_binary, columns=['gen_bin'])\n",
    "# genres.head()"
   ]
  },
  {
   "cell_type": "code",
   "execution_count": 28,
   "id": "dd0cf053",
   "metadata": {},
   "outputs": [
    {
     "name": "stdout",
     "output_type": "stream",
     "text": [
      "anime title size: 12231\n",
      "genres size: 12231\n",
      "normalized ratings size: 13664\n"
     ]
    }
   ],
   "source": [
    "import sys\n",
    "anime_dictionary = {}\n",
    "# for anime_item in anime['name']:\n",
    "# anime_id = 1\n",
    "# for name in anime['name']:\n",
    "#     anime_dictionary[anime_id] = (\n",
    "#         name, \n",
    "#         np.array(genres_in_binary[anime_id]), \n",
    "#         normalized_ratings.loc[anime_id].get('size'), \n",
    "#         rating_stats.loc[anime_id].rating.get('mean')\n",
    "#     )\n",
    "#     anime_id += 1\n",
    "anime_titles = []\n",
    "for ani in anime['name']:\n",
    "    anime_titles.append(ani)\n",
    "\n",
    "anime_titles = anime_titles[:12231]\n",
    "normalized_rating_size = normalized_ratings[:12231]\n",
    "print(\"anime title size: \" + str(len(anime_titles)))\n",
    "print(\"genres size: \" + str(len(genres_in_binary)))\n",
    "print(\"normalized ratings size: \" + str(normalized_ratings.size))\n",
    "    \n"
   ]
  },
  {
   "cell_type": "code",
   "execution_count": 29,
   "id": "4a69706a",
   "metadata": {},
   "outputs": [
    {
     "data": {
      "text/html": [
       "<div>\n",
       "<style scoped>\n",
       "    .dataframe tbody tr th:only-of-type {\n",
       "        vertical-align: middle;\n",
       "    }\n",
       "\n",
       "    .dataframe tbody tr th {\n",
       "        vertical-align: top;\n",
       "    }\n",
       "\n",
       "    .dataframe thead th {\n",
       "        text-align: right;\n",
       "    }\n",
       "</style>\n",
       "<table border=\"1\" class=\"dataframe\">\n",
       "  <thead>\n",
       "    <tr style=\"text-align: right;\">\n",
       "      <th></th>\n",
       "      <th>anime_id</th>\n",
       "      <th>name</th>\n",
       "      <th>type</th>\n",
       "      <th>episodes</th>\n",
       "      <th>rating</th>\n",
       "      <th>user_id</th>\n",
       "    </tr>\n",
       "  </thead>\n",
       "  <tbody>\n",
       "    <tr>\n",
       "      <th>58</th>\n",
       "      <td>10488</td>\n",
       "      <td>Shocking Pink!</td>\n",
       "      <td>OVA</td>\n",
       "      <td>2</td>\n",
       "      <td>7</td>\n",
       "      <td>2115</td>\n",
       "    </tr>\n",
       "    <tr>\n",
       "      <th>61</th>\n",
       "      <td>11763</td>\n",
       "      <td>Sekai de Ichiban Tsuyoku Naritai!</td>\n",
       "      <td>TV</td>\n",
       "      <td>12</td>\n",
       "      <td>6</td>\n",
       "      <td>1484</td>\n",
       "    </tr>\n",
       "    <tr>\n",
       "      <th>59</th>\n",
       "      <td>11763</td>\n",
       "      <td>Sekai de Ichiban Tsuyoku Naritai!</td>\n",
       "      <td>TV</td>\n",
       "      <td>12</td>\n",
       "      <td>6</td>\n",
       "      <td>438</td>\n",
       "    </tr>\n",
       "    <tr>\n",
       "      <th>60</th>\n",
       "      <td>11763</td>\n",
       "      <td>Sekai de Ichiban Tsuyoku Naritai!</td>\n",
       "      <td>TV</td>\n",
       "      <td>12</td>\n",
       "      <td>6</td>\n",
       "      <td>954</td>\n",
       "    </tr>\n",
       "    <tr>\n",
       "      <th>62</th>\n",
       "      <td>11763</td>\n",
       "      <td>Sekai de Ichiban Tsuyoku Naritai!</td>\n",
       "      <td>TV</td>\n",
       "      <td>12</td>\n",
       "      <td>6</td>\n",
       "      <td>1497</td>\n",
       "    </tr>\n",
       "    <tr>\n",
       "      <th>63</th>\n",
       "      <td>11763</td>\n",
       "      <td>Sekai de Ichiban Tsuyoku Naritai!</td>\n",
       "      <td>TV</td>\n",
       "      <td>12</td>\n",
       "      <td>6</td>\n",
       "      <td>1522</td>\n",
       "    </tr>\n",
       "    <tr>\n",
       "      <th>64</th>\n",
       "      <td>11763</td>\n",
       "      <td>Sekai de Ichiban Tsuyoku Naritai!</td>\n",
       "      <td>TV</td>\n",
       "      <td>12</td>\n",
       "      <td>6</td>\n",
       "      <td>2186</td>\n",
       "    </tr>\n",
       "    <tr>\n",
       "      <th>65</th>\n",
       "      <td>11763</td>\n",
       "      <td>Sekai de Ichiban Tsuyoku Naritai!</td>\n",
       "      <td>TV</td>\n",
       "      <td>12</td>\n",
       "      <td>6</td>\n",
       "      <td>3040</td>\n",
       "    </tr>\n",
       "    <tr>\n",
       "      <th>0</th>\n",
       "      <td>124</td>\n",
       "      <td>Fushigi Yuugi: Eikouden</td>\n",
       "      <td>OVA</td>\n",
       "      <td>4</td>\n",
       "      <td>7</td>\n",
       "      <td>439</td>\n",
       "    </tr>\n",
       "    <tr>\n",
       "      <th>1</th>\n",
       "      <td>124</td>\n",
       "      <td>Fushigi Yuugi: Eikouden</td>\n",
       "      <td>OVA</td>\n",
       "      <td>4</td>\n",
       "      <td>7</td>\n",
       "      <td>848</td>\n",
       "    </tr>\n",
       "  </tbody>\n",
       "</table>\n",
       "</div>"
      ],
      "text/plain": [
       "   anime_id                               name type episodes rating user_id\n",
       "58    10488                     Shocking Pink!  OVA        2      7    2115\n",
       "61    11763  Sekai de Ichiban Tsuyoku Naritai!   TV       12      6    1484\n",
       "59    11763  Sekai de Ichiban Tsuyoku Naritai!   TV       12      6     438\n",
       "60    11763  Sekai de Ichiban Tsuyoku Naritai!   TV       12      6     954\n",
       "62    11763  Sekai de Ichiban Tsuyoku Naritai!   TV       12      6    1497\n",
       "63    11763  Sekai de Ichiban Tsuyoku Naritai!   TV       12      6    1522\n",
       "64    11763  Sekai de Ichiban Tsuyoku Naritai!   TV       12      6    2186\n",
       "65    11763  Sekai de Ichiban Tsuyoku Naritai!   TV       12      6    3040\n",
       "0       124            Fushigi Yuugi: Eikouden  OVA        4      7     439\n",
       "1       124            Fushigi Yuugi: Eikouden  OVA        4      7     848"
      ]
     },
     "execution_count": 29,
     "metadata": {},
     "output_type": "execute_result"
    }
   ],
   "source": [
    "anime_ratings = anime_ratings.drop(columns=['genre'])\n",
    "anime_ratings.head(10)"
   ]
  },
  {
   "cell_type": "markdown",
   "id": "2b0656d3",
   "metadata": {},
   "source": [
    "Group by anime names to get rating counts"
   ]
  },
  {
   "cell_type": "code",
   "execution_count": 30,
   "id": "35f2dfd6",
   "metadata": {},
   "outputs": [
    {
     "data": {
      "text/html": [
       "<div>\n",
       "<style scoped>\n",
       "    .dataframe tbody tr th:only-of-type {\n",
       "        vertical-align: middle;\n",
       "    }\n",
       "\n",
       "    .dataframe tbody tr th {\n",
       "        vertical-align: top;\n",
       "    }\n",
       "\n",
       "    .dataframe thead th {\n",
       "        text-align: right;\n",
       "    }\n",
       "</style>\n",
       "<table border=\"1\" class=\"dataframe\">\n",
       "  <thead>\n",
       "    <tr style=\"text-align: right;\">\n",
       "      <th></th>\n",
       "      <th>name</th>\n",
       "      <th>total_rating</th>\n",
       "    </tr>\n",
       "  </thead>\n",
       "  <tbody>\n",
       "    <tr>\n",
       "      <th>35</th>\n",
       "      <td>Sword Art Online: Extra Edition</td>\n",
       "      <td>80</td>\n",
       "    </tr>\n",
       "    <tr>\n",
       "      <th>18</th>\n",
       "      <td>Little Witch Academia</td>\n",
       "      <td>72</td>\n",
       "    </tr>\n",
       "    <tr>\n",
       "      <th>13</th>\n",
       "      <td>Gekkan Shoujo Nozaki-kun Specials</td>\n",
       "      <td>28</td>\n",
       "    </tr>\n",
       "    <tr>\n",
       "      <th>28</th>\n",
       "      <td>Samurai Flamenco</td>\n",
       "      <td>25</td>\n",
       "    </tr>\n",
       "    <tr>\n",
       "      <th>16</th>\n",
       "      <td>Kamisama Hajimemashita OVA</td>\n",
       "      <td>20</td>\n",
       "    </tr>\n",
       "    <tr>\n",
       "      <th>8</th>\n",
       "      <td>Comet Lucifer</td>\n",
       "      <td>17</td>\n",
       "    </tr>\n",
       "    <tr>\n",
       "      <th>29</th>\n",
       "      <td>Schwarzesmarken</td>\n",
       "      <td>16</td>\n",
       "    </tr>\n",
       "    <tr>\n",
       "      <th>10</th>\n",
       "      <td>Detective Conan Movie 02: The Fourteenth Target</td>\n",
       "      <td>12</td>\n",
       "    </tr>\n",
       "    <tr>\n",
       "      <th>2</th>\n",
       "      <td>Aoi Sekai no Chuushin de</td>\n",
       "      <td>10</td>\n",
       "    </tr>\n",
       "    <tr>\n",
       "      <th>31</th>\n",
       "      <td>Sex Pistols</td>\n",
       "      <td>7</td>\n",
       "    </tr>\n",
       "  </tbody>\n",
       "</table>\n",
       "</div>"
      ],
      "text/plain": [
       "                                               name  total_rating\n",
       "35                  Sword Art Online: Extra Edition            80\n",
       "18                            Little Witch Academia            72\n",
       "13                Gekkan Shoujo Nozaki-kun Specials            28\n",
       "28                                 Samurai Flamenco            25\n",
       "16                       Kamisama Hajimemashita OVA            20\n",
       "8                                     Comet Lucifer            17\n",
       "29                                  Schwarzesmarken            16\n",
       "10  Detective Conan Movie 02: The Fourteenth Target            12\n",
       "2                          Aoi Sekai no Chuushin de            10\n",
       "31                                      Sex Pistols             7"
      ]
     },
     "execution_count": 30,
     "metadata": {},
     "output_type": "execute_result"
    }
   ],
   "source": [
    "combine_anime_ratings = anime_ratings.dropna(axis=0, subset = ['name'])\n",
    "\n",
    "anime_rating_count = (combine_anime_ratings.groupby(by=['name'])['rating'].count().reset_index().rename(columns = {'rating': 'total_rating'})[['name', 'total_rating']])\n",
    "anime_rating_count = anime_rating_count.sort_values('total_rating', ascending=False)\n",
    "anime_rating_count.head(10)"
   ]
  },
  {
   "cell_type": "code",
   "execution_count": 31,
   "id": "1123ea8b",
   "metadata": {},
   "outputs": [
    {
     "data": {
      "text/html": [
       "<div>\n",
       "<style scoped>\n",
       "    .dataframe tbody tr th:only-of-type {\n",
       "        vertical-align: middle;\n",
       "    }\n",
       "\n",
       "    .dataframe tbody tr th {\n",
       "        vertical-align: top;\n",
       "    }\n",
       "\n",
       "    .dataframe thead th {\n",
       "        text-align: right;\n",
       "    }\n",
       "</style>\n",
       "<table border=\"1\" class=\"dataframe\">\n",
       "  <thead>\n",
       "    <tr style=\"text-align: right;\">\n",
       "      <th></th>\n",
       "      <th>name</th>\n",
       "      <th>total_rating</th>\n",
       "    </tr>\n",
       "  </thead>\n",
       "  <tbody>\n",
       "    <tr>\n",
       "      <th>35</th>\n",
       "      <td>Sword Art Online: Extra Edition</td>\n",
       "      <td>80</td>\n",
       "    </tr>\n",
       "    <tr>\n",
       "      <th>18</th>\n",
       "      <td>Little Witch Academia</td>\n",
       "      <td>72</td>\n",
       "    </tr>\n",
       "    <tr>\n",
       "      <th>13</th>\n",
       "      <td>Gekkan Shoujo Nozaki-kun Specials</td>\n",
       "      <td>28</td>\n",
       "    </tr>\n",
       "    <tr>\n",
       "      <th>28</th>\n",
       "      <td>Samurai Flamenco</td>\n",
       "      <td>25</td>\n",
       "    </tr>\n",
       "    <tr>\n",
       "      <th>16</th>\n",
       "      <td>Kamisama Hajimemashita OVA</td>\n",
       "      <td>20</td>\n",
       "    </tr>\n",
       "    <tr>\n",
       "      <th>8</th>\n",
       "      <td>Comet Lucifer</td>\n",
       "      <td>17</td>\n",
       "    </tr>\n",
       "    <tr>\n",
       "      <th>29</th>\n",
       "      <td>Schwarzesmarken</td>\n",
       "      <td>16</td>\n",
       "    </tr>\n",
       "    <tr>\n",
       "      <th>10</th>\n",
       "      <td>Detective Conan Movie 02: The Fourteenth Target</td>\n",
       "      <td>12</td>\n",
       "    </tr>\n",
       "    <tr>\n",
       "      <th>2</th>\n",
       "      <td>Aoi Sekai no Chuushin de</td>\n",
       "      <td>10</td>\n",
       "    </tr>\n",
       "    <tr>\n",
       "      <th>31</th>\n",
       "      <td>Sex Pistols</td>\n",
       "      <td>7</td>\n",
       "    </tr>\n",
       "  </tbody>\n",
       "</table>\n",
       "</div>"
      ],
      "text/plain": [
       "                                               name  total_rating\n",
       "35                  Sword Art Online: Extra Edition            80\n",
       "18                            Little Witch Academia            72\n",
       "13                Gekkan Shoujo Nozaki-kun Specials            28\n",
       "28                                 Samurai Flamenco            25\n",
       "16                       Kamisama Hajimemashita OVA            20\n",
       "8                                     Comet Lucifer            17\n",
       "29                                  Schwarzesmarken            16\n",
       "10  Detective Conan Movie 02: The Fourteenth Target            12\n",
       "2                          Aoi Sekai no Chuushin de            10\n",
       "31                                      Sex Pistols             7"
      ]
     },
     "execution_count": 31,
     "metadata": {},
     "output_type": "execute_result"
    }
   ],
   "source": [
    "combine_anime_rating = anime.dropna(axis=0, subset = ['name'])\n",
    "anime_rating_count = (combine_anime_ratings.groupby(by=['name'])['rating'].count().reset_index().rename(columns = {'rating': 'total_rating'})[['name', 'total_rating']])\n",
    "anime_rating_count = anime_rating_count.sort_values('total_rating', ascending=False)\n",
    "anime_rating_count.head(10)"
   ]
  },
  {
   "cell_type": "code",
   "execution_count": 32,
   "id": "e010af1b",
   "metadata": {},
   "outputs": [
    {
     "name": "stdout",
     "output_type": "stream",
     "text": [
      "(854113, 3)\n",
      "Index(['user_id', 'anime_id', 'rating'], dtype='object')\n"
     ]
    },
    {
     "data": {
      "text/html": [
       "<div>\n",
       "<style scoped>\n",
       "    .dataframe tbody tr th:only-of-type {\n",
       "        vertical-align: middle;\n",
       "    }\n",
       "\n",
       "    .dataframe tbody tr th {\n",
       "        vertical-align: top;\n",
       "    }\n",
       "\n",
       "    .dataframe thead th {\n",
       "        text-align: right;\n",
       "    }\n",
       "</style>\n",
       "<table border=\"1\" class=\"dataframe\">\n",
       "  <thead>\n",
       "    <tr style=\"text-align: right;\">\n",
       "      <th></th>\n",
       "      <th>user_id</th>\n",
       "      <th>anime_id</th>\n",
       "      <th>rating</th>\n",
       "    </tr>\n",
       "  </thead>\n",
       "  <tbody>\n",
       "    <tr>\n",
       "      <th>1</th>\n",
       "      <td>1</td>\n",
       "      <td>8074</td>\n",
       "      <td>10</td>\n",
       "    </tr>\n",
       "    <tr>\n",
       "      <th>2</th>\n",
       "      <td>1</td>\n",
       "      <td>11617</td>\n",
       "      <td>10</td>\n",
       "    </tr>\n",
       "    <tr>\n",
       "      <th>3</th>\n",
       "      <td>1</td>\n",
       "      <td>11757</td>\n",
       "      <td>10</td>\n",
       "    </tr>\n",
       "    <tr>\n",
       "      <th>4</th>\n",
       "      <td>1</td>\n",
       "      <td>15451</td>\n",
       "      <td>10</td>\n",
       "    </tr>\n",
       "    <tr>\n",
       "      <th>5</th>\n",
       "      <td>2</td>\n",
       "      <td>11771</td>\n",
       "      <td>10</td>\n",
       "    </tr>\n",
       "  </tbody>\n",
       "</table>\n",
       "</div>"
      ],
      "text/plain": [
       "  user_id anime_id rating\n",
       "1       1     8074     10\n",
       "2       1    11617     10\n",
       "3       1    11757     10\n",
       "4       1    15451     10\n",
       "5       2    11771     10"
      ]
     },
     "execution_count": 32,
     "metadata": {},
     "output_type": "execute_result"
    }
   ],
   "source": [
    "print(ratings.shape)\n",
    "print(ratings.columns)\n",
    "ratings.head()"
   ]
  },
  {
   "cell_type": "code",
   "execution_count": 33,
   "id": "e7456a96",
   "metadata": {},
   "outputs": [
    {
     "data": {
      "image/png": "[encoded data removed]",
      "text/plain": [
       "<Figure size 432x288 with 1 Axes>"
      ]
     },
     "metadata": {
      "needs_background": "light"
     },
     "output_type": "display_data"
    }
   ],
   "source": [
    "\n",
    "\n",
    "plt.rc(\"font\", size=15)\n",
    "ratings.rating.value_counts(sort=False).plot(kind='bar')\n",
    "plt.xlabel('Rating')\n",
    "plt.ylabel('Count')\n",
    "plt.show()"
   ]
  },
  {
   "cell_type": "code",
   "execution_count": 34,
   "id": "897c85bc",
   "metadata": {},
   "outputs": [
    {
     "name": "stdout",
     "output_type": "stream",
     "text": [
      "(12294, 6)\n",
      "['anime_id', 'name', 'genre', 'type', 'episodes', 'rating']\n"
     ]
    },
    {
     "data": {
      "text/html": [
       "<div>\n",
       "<style scoped>\n",
       "    .dataframe tbody tr th:only-of-type {\n",
       "        vertical-align: middle;\n",
       "    }\n",
       "\n",
       "    .dataframe tbody tr th {\n",
       "        vertical-align: top;\n",
       "    }\n",
       "\n",
       "    .dataframe thead th {\n",
       "        text-align: right;\n",
       "    }\n",
       "</style>\n",
       "<table border=\"1\" class=\"dataframe\">\n",
       "  <thead>\n",
       "    <tr style=\"text-align: right;\">\n",
       "      <th></th>\n",
       "      <th>anime_id</th>\n",
       "      <th>name</th>\n",
       "      <th>genre</th>\n",
       "      <th>type</th>\n",
       "      <th>episodes</th>\n",
       "      <th>rating</th>\n",
       "    </tr>\n",
       "  </thead>\n",
       "  <tbody>\n",
       "    <tr>\n",
       "      <th>1</th>\n",
       "      <td>1</td>\n",
       "      <td>Cowboy Bebop</td>\n",
       "      <td>Action, Adventure, Comedy, Drama, Sci-Fi, Space</td>\n",
       "      <td>TV</td>\n",
       "      <td>26</td>\n",
       "      <td>8.82</td>\n",
       "    </tr>\n",
       "    <tr>\n",
       "      <th>2</th>\n",
       "      <td>5</td>\n",
       "      <td>Cowboy Bebop: Tengoku no Tobira</td>\n",
       "      <td>Action, Drama, Mystery, Sci-Fi, Space</td>\n",
       "      <td>Movie</td>\n",
       "      <td>1</td>\n",
       "      <td>8.4</td>\n",
       "    </tr>\n",
       "    <tr>\n",
       "      <th>3</th>\n",
       "      <td>6</td>\n",
       "      <td>Trigun</td>\n",
       "      <td>Action, Comedy, Sci-Fi</td>\n",
       "      <td>TV</td>\n",
       "      <td>26</td>\n",
       "      <td>8.32</td>\n",
       "    </tr>\n",
       "    <tr>\n",
       "      <th>4</th>\n",
       "      <td>7</td>\n",
       "      <td>Witch Hunter Robin</td>\n",
       "      <td>Action, Drama, Magic, Mystery, Police, Superna...</td>\n",
       "      <td>TV</td>\n",
       "      <td>26</td>\n",
       "      <td>7.36</td>\n",
       "    </tr>\n",
       "    <tr>\n",
       "      <th>5</th>\n",
       "      <td>8</td>\n",
       "      <td>Beet the Vandel Buster</td>\n",
       "      <td>Adventure, Fantasy, Shounen, Supernatural</td>\n",
       "      <td>TV</td>\n",
       "      <td>52</td>\n",
       "      <td>7.06</td>\n",
       "    </tr>\n",
       "  </tbody>\n",
       "</table>\n",
       "</div>"
      ],
      "text/plain": [
       "  anime_id                             name  \\\n",
       "1        1                     Cowboy Bebop   \n",
       "2        5  Cowboy Bebop: Tengoku no Tobira   \n",
       "3        6                           Trigun   \n",
       "4        7               Witch Hunter Robin   \n",
       "5        8           Beet the Vandel Buster   \n",
       "\n",
       "                                               genre   type episodes rating  \n",
       "1    Action, Adventure, Comedy, Drama, Sci-Fi, Space     TV       26   8.82  \n",
       "2              Action, Drama, Mystery, Sci-Fi, Space  Movie        1    8.4  \n",
       "3                             Action, Comedy, Sci-Fi     TV       26   8.32  \n",
       "4  Action, Drama, Magic, Mystery, Police, Superna...     TV       26   7.36  \n",
       "5          Adventure, Fantasy, Shounen, Supernatural     TV       52   7.06  "
      ]
     },
     "execution_count": 34,
     "metadata": {},
     "output_type": "execute_result"
    }
   ],
   "source": [
    "print(anime.shape)\n",
    "print(list(anime.columns))\n",
    "anime.head()"
   ]
  },
  {
   "cell_type": "code",
   "execution_count": 35,
   "id": "74d9b35a",
   "metadata": {},
   "outputs": [
    {
     "data": {
      "text/html": [
       "<div>\n",
       "<style scoped>\n",
       "    .dataframe tbody tr th:only-of-type {\n",
       "        vertical-align: middle;\n",
       "    }\n",
       "\n",
       "    .dataframe tbody tr th {\n",
       "        vertical-align: top;\n",
       "    }\n",
       "\n",
       "    .dataframe thead th {\n",
       "        text-align: right;\n",
       "    }\n",
       "</style>\n",
       "<table border=\"1\" class=\"dataframe\">\n",
       "  <thead>\n",
       "    <tr style=\"text-align: right;\">\n",
       "      <th></th>\n",
       "      <th>rating</th>\n",
       "    </tr>\n",
       "    <tr>\n",
       "      <th>anime_id</th>\n",
       "      <th></th>\n",
       "    </tr>\n",
       "  </thead>\n",
       "  <tbody>\n",
       "    <tr>\n",
       "      <th>1535</th>\n",
       "      <td>3243</td>\n",
       "    </tr>\n",
       "    <tr>\n",
       "      <th>1575</th>\n",
       "      <td>2384</td>\n",
       "    </tr>\n",
       "    <tr>\n",
       "      <th>226</th>\n",
       "      <td>2232</td>\n",
       "    </tr>\n",
       "    <tr>\n",
       "      <th>121</th>\n",
       "      <td>2199</td>\n",
       "    </tr>\n",
       "    <tr>\n",
       "      <th>2904</th>\n",
       "      <td>2110</td>\n",
       "    </tr>\n",
       "  </tbody>\n",
       "</table>\n",
       "</div>"
      ],
      "text/plain": [
       "          rating\n",
       "anime_id        \n",
       "1535        3243\n",
       "1575        2384\n",
       "226         2232\n",
       "121         2199\n",
       "2904        2110"
      ]
     },
     "execution_count": 35,
     "metadata": {},
     "output_type": "execute_result"
    }
   ],
   "source": [
    "rating_count = pd.DataFrame(ratings.groupby('anime_id')['rating'].count())\n",
    "rating_count.sort_values('rating', ascending=False).head()"
   ]
  },
  {
   "cell_type": "code",
   "execution_count": null,
   "id": "d08cbfdb",
   "metadata": {},
   "outputs": [],
   "source": []
  }
 ],
 "metadata": {
  "kernelspec": {
   "display_name": "Python 3 (ipykernel)",
   "language": "python",
   "name": "python3"
  },
  "language_info": {
   "codemirror_mode": {
    "name": "ipython",
    "version": 3
   },
   "file_extension": ".py",
   "mimetype": "text/x-python",
   "name": "python",
   "nbconvert_exporter": "python",
   "pygments_lexer": "ipython3",
   "version": "3.9.7"
  }
 },
 "nbformat": 4,
 "nbformat_minor": 5
}
