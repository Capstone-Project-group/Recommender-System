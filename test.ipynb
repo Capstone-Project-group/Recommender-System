{
 "cells": [
  {
   "cell_type": "markdown",
   "id": "18decb5b",
   "metadata": {},
   "source": [
    "# Import Python Libraries and Load Anime Data Function"
   ]
  },
  {
   "cell_type": "code",
   "execution_count": 1,
   "id": "3ce8e962",
   "metadata": {},
   "outputs": [],
   "source": [
    "from math import sqrt\n",
    "import json\n",
    "import pandas as pd\n",
    "import numpy as np\n",
    "from csv import reader\n",
    "from sklearn import preprocessing \n",
    "import operator\n",
    "\n",
    "\n",
    "def load_csv(filename):\n",
    "    dataset = list()\n",
    "    with open(filename, 'r') as file:\n",
    "        csv_reader = reader(file)\n",
    "        for row in csv_reader:\n",
    "            if not row:\n",
    "                continue\n",
    "            dataset.append(row)\n",
    "    return dataset"
   ]
  },
  {
   "cell_type": "markdown",
   "id": "9cd0dd5e",
   "metadata": {},
   "source": [
    "# Convert Anime Genre Strings to Genre Binary"
   ]
  },
  {
   "cell_type": "code",
   "execution_count": 2,
   "id": "0413239e",
   "metadata": {},
   "outputs": [],
   "source": [
    "import re\n",
    "\n",
    "def get_genres_bin(genres):\n",
    "    pattern = re.compile(r', ')\n",
    "    genres_bin = pattern.split(genres)\n",
    "    return genres_bin"
   ]
  },
  {
   "cell_type": "markdown",
   "id": "481a8c38",
   "metadata": {},
   "source": [
    "# Calculate Distance of Two Animies by Euclidean Distance "
   ]
  },
  {
   "cell_type": "code",
   "execution_count": 3,
   "id": "25fb0154",
   "metadata": {},
   "outputs": [],
   "source": [
    "def calc_euclidean_distance(movie_1, movie_2):\n",
    "    genre_distance = 0.0\n",
    "    rating_distance = 0.0\n",
    "    members_distance = 0.0\n",
    "    \n",
    "    movie_1_gen_bin = get_genres_bin(movie_1[6])\n",
    "    movie_2_gen_bin = get_genres_bin(movie_2[6])\n",
    "    \n",
    "    for x in range(len(movie_2_gen_bin)):\n",
    "        if len(movie_1_gen_bin) == len(movie_2_gen_bin):\n",
    "            genre_distance += (float(movie_1_gen_bin[x]) - float(movie_2_gen_bin[x]))**2 \n",
    "        \n",
    "    normal_genre_distance = genre_distance / len(movie_1_gen_bin)\n",
    "        \n",
    "    if (([not s or s.isspace() for s in movie_1[5]]) and ([not sp or sp.isspace() for sp in movie_2[5]])):\n",
    "        if movie_1[5].isdigit():\n",
    "            rating_distance += (float(movie_1[5]) - float(movie_2[5]))**2\n",
    "    \n",
    "    if (([not s or s.isspace() for s in movie_1[7]]) and ([not sp or sp.isspace() for sp in movie_2[7]])):\n",
    "        if movie_1[7].isdigit():\n",
    "            members_array = np.array([[int(movie_1[7]), int(movie_2[7])]])\n",
    "            members_array = preprocessing.normalize(members_array)\n",
    "            members_distance += (members_array[0][0] - members_array[0][1])**2\n",
    "    \n",
    "    measuring_dimension = 3\n",
    "    \n",
    "    total_distance = (normal_genre_distance + rating_distance +  members_distance) / measuring_dimension\n",
    "    return sqrt(total_distance)\n",
    "\n"
   ]
  },
  {
   "cell_type": "markdown",
   "id": "c896f4f3",
   "metadata": {},
   "source": [
    "# Calculate Distance of Two Animies by Cosine Similarity"
   ]
  },
  {
   "cell_type": "code",
   "execution_count": 4,
   "id": "d7ece60e",
   "metadata": {},
   "outputs": [],
   "source": [
    "# import operator\n",
    "# from scipy.spatial import distance\n",
    "# Cosine similarity formular\n",
    "# cos(d1, d2) = (d1 . d2) / (\\\\d1\\\\ * \\\\d2\\\\)\n",
    "\n",
    "def calc_cosine_similarity(anime_one, anime_two):\n",
    "    \n",
    "    if len(anime_one[6]) == len(anime_two[6]):\n",
    "        genres_bin_one = get_genres_bin(anime_one[6])\n",
    "        genres_bin_two = get_genres_bin(anime_two[6])\n",
    "        \n",
    "        anime_one_rating = anime_one[5]\n",
    "        anime_one_rating = float(anime_one_rating)\n",
    "        anime_two_rating = anime_two[5]\n",
    "        anime_two_rating = float(anime_two_rating)\n",
    "\n",
    "\n",
    "\n",
    "        rating_dot_product = anime_one_rating * float(anime_two[5])\n",
    "        rating_magnitudes = rating_dot_product / sqrt((anime_one_rating**2) * (anime_two_rating**2))\n",
    "    \n",
    "        anime_one_popularity = float(anime_one[7])\n",
    "        anime_two_popularity = float(anime_two[7])\n",
    "        popularity_dot_product = anime_one_popularity * anime_two_popularity\n",
    "        popularity_magnitudes = popularity_dot_product / sqrt((anime_one_popularity**2) * (anime_two_popularity**2))\n",
    "\n",
    "        genres_dot_products = 0.0\n",
    "        genres_one_magnitude = 0.0\n",
    "        genres_two_magnitude = 0.0\n",
    "\n",
    "        for i in range(len(genres_bin_two)):\n",
    "            genres_dot_products += float(genres_bin_one[i]) * float(genres_bin_two[i])\n",
    "            genres_one_magnitude += float(genres_bin_one[i])**2\n",
    "            genres_two_magnitude += float(genres_bin_two[i])**2\n",
    "\n",
    "        product_of_magnitudes = sqrt(genres_one_magnitude) * sqrt(genres_two_magnitude)\n",
    "        genre_magnitudes = genres_dot_products / product_of_magnitudes\n",
    "        genre_magnitudes = genre_magnitudes / len(genres_bin_two)\n",
    "\n",
    "        measuring_dimension = 3\n",
    "        cosine_similarity = (rating_magnitudes + popularity_magnitudes + genre_magnitudes) / measuring_dimension\n",
    "        cosine_similarity = cosine_similarity / measuring_dimension\n",
    "\n",
    "        return round(cosine_similarity, 4)\n",
    "    return -1\n",
    "\n",
    "\n"
   ]
  },
  {
   "cell_type": "markdown",
   "id": "d7cd9d5e",
   "metadata": {},
   "source": [
    "# Anime Recommendation by K Nearest Neighbor ML Algorithm"
   ]
  },
  {
   "cell_type": "code",
   "execution_count": 5,
   "id": "107085bf",
   "metadata": {},
   "outputs": [],
   "source": [
    "def get_nearest_neighbors(anime_data, search_anime, K):\n",
    "    distances = []\n",
    "    for anime in anime_data:\n",
    "        if anime != search_anime:\n",
    "            dist = calc_euclidean_distance(anime, search_anime)\n",
    "            if dist != -1:\n",
    "                distances.append((anime, dist))\n",
    "    distances.sort(key=operator.itemgetter(1)) # Sort the distances of animes\n",
    "    \n",
    "    neighbors = []\n",
    "    for i in range(K):\n",
    "        percent_matched = int(100 - distances[i][1])\n",
    "        neighbors.append( (distances[i][0], percent_matched) )\n",
    "    return neighbors"
   ]
  },
  {
   "cell_type": "markdown",
   "id": "e6db29c9",
   "metadata": {},
   "source": [
    "# User Friendly Anime Search by Suggesting Possible Anime Titles"
   ]
  },
  {
   "cell_type": "code",
   "execution_count": 6,
   "id": "c66b8030",
   "metadata": {},
   "outputs": [],
   "source": [
    "def search_input_title(anime_data, title):\n",
    "    for anime in anime_data:\n",
    "        if title == anime[1]:\n",
    "            return anime\n",
    "        elif input_title in anime[1]:\n",
    "            print(f'Do you want similar anime to \"{anime[1]}\"?')\n",
    "            agree = int(input('Enter 1 for YES or 0 for NO: '))\n",
    "            if agree:\n",
    "                return anime \n",
    "    return \"\"\n",
    "\n"
   ]
  },
  {
   "cell_type": "markdown",
   "id": "3971a2a9",
   "metadata": {},
   "source": [
    "# Present the List of Search Results"
   ]
  },
  {
   "cell_type": "code",
   "execution_count": 7,
   "id": "1aca0a87",
   "metadata": {},
   "outputs": [
    {
     "name": "stdout",
     "output_type": "stream",
     "text": [
      "Enter an anime title: Monster\n",
      "\n",
      "The most similar animes to Monster: \n",
      "------------------------------------------\n",
      "1. Higurashi no Naku Koro ni Kai (99% matched)\n",
      "2. Danganronpa: Kibou no Gakuen to Zetsubou no Koukousei The Animation (99% matched)\n",
      "3. Ergo Proxy (99% matched)\n",
      "4. Shinsekai yori (99% matched)\n",
      "5. Gangsta. (99% matched)\n",
      "6. Higurashi no Naku Koro ni (99% matched)\n",
      "7. Shiki (99% matched)\n",
      "8. Koutetsujou no Kabaneri (99% matched)\n",
      "9. Gosick (99% matched)\n",
      "10. Psycho-Pass 2 (99% matched)\n",
      "11. Zankyou no Terror (99% matched)\n",
      "12. Ghost in the Shell (99% matched)\n",
      "13. Serial Experiments Lain (99% matched)\n",
      "14. NHK ni Youkoso! (99% matched)\n",
      "15. Jigoku Shoujo (99% matched)\n",
      "16. Re:Zero kara Hajimeru Isekai Seikatsu (99% matched)\n",
      "17. Black Lagoon: The Second Barrage (99% matched)\n",
      "18. Death Parade (99% matched)\n",
      "19. Zetsuen no Tempest (99% matched)\n"
     ]
    }
   ],
   "source": [
    "anime_data = load_csv(\"/Users/brangmai/Desktop/Capstone/Recommender-System-WebApp/anime.csv\")\n",
    "\n",
    "\n",
    "input_title = input(\"Enter an anime title: \")\n",
    "found_anime = search_input_title(anime_data, input_title)\n",
    "\n",
    "if found_anime == \"\": \n",
    "    print(f'{input_title} cannot be found')\n",
    "    \n",
    "else:    \n",
    "    K = 20\n",
    "    \n",
    "    nearest_neighbors = get_nearest_neighbors(anime_data, found_anime, K)\n",
    "    print(f\"\\nThe most similar animes to {found_anime[1]}: \")\n",
    "    print(\"------------------------------------------\")\n",
    "    \n",
    "    for index, neighbor in enumerate(nearest_neighbors):\n",
    "        if index != 0:   # Avoiding the culumn titles\n",
    "            print(f'{index}. {neighbor[0][1]} ({neighbor[1]}% matched)')\n",
    "\n"
   ]
  },
  {
   "cell_type": "markdown",
   "id": "90c98fc5",
   "metadata": {},
   "source": [
    "# Search by Cosine Similarity"
   ]
  },
  {
   "cell_type": "code",
   "execution_count": null,
   "id": "a86f026f",
   "metadata": {},
   "outputs": [],
   "source": [
    "def get_nearest_neighbors_cosine(anime_data, search_anime, K):\n",
    "    distances = []\n",
    "    for index, anime in enumerate(anime_data):\n",
    "        if index > 0 and anime[1] != search_anime[1]:\n",
    "            dist = calc_cosine_similarity(anime, search_anime)\n",
    "            if dist != -1:\n",
    "                distances.append((anime, dist))\n",
    "    distances.sort(key=operator.itemgetter(1)) # Sort the distances of animes\n",
    "    \n",
    "    neighbors = []\n",
    "    for i in range(K):\n",
    "        percent_matched = int(100 - distances[i][1])\n",
    "        neighbors.append( (distances[i][0], percent_matched) )\n",
    "    return neighbors"
   ]
  },
  {
   "cell_type": "code",
   "execution_count": null,
   "id": "a35fd3e8",
   "metadata": {},
   "outputs": [],
   "source": [
    "data = load_csv(\"/Users/brangmai/Desktop/Capstone/Recommender-System-WebApp/anime.csv\")\n",
    "\n",
    "\n",
    "input_title = input(\"Enter an anime title: \")\n",
    "found_anime = search_input_title(data, input_title)\n",
    "\n",
    "if found_anime == \"\": \n",
    "    print(f'{input_title} cannot be found')\n",
    "    \n",
    "else:    \n",
    "    K = 20\n",
    "    \n",
    "    nearest_neighbors = get_nearest_neighbors_cosine(data, found_anime, K)\n",
    "    print(f\"\\nThe most similar animes to {found_anime[1]}: \")\n",
    "    print(\"------------------------------------------\")\n",
    "    \n",
    "    for index, neighbor in enumerate(nearest_neighbors):\n",
    "        if index != 0:   # Avoiding the culumn titles\n",
    "            print(f'{index}. {neighbor[0][1]} ({neighbor[1]}% matched)')"
   ]
  },
  {
   "cell_type": "code",
   "execution_count": null,
   "id": "951ab665",
   "metadata": {},
   "outputs": [],
   "source": [
    "input_genres = [1, 0, 0, 0, 0, 0, 1, 0, 0, 0, 0, 0, 0, 0, 0, 0, 1, 0, 0, 0, 0, 1, 0, 1, 0, 0, 0, 0, 0, 0, 0, 0, 0, 0, 0, 0, 0, 0, 1, 0, 0, 0, 0]\n",
    "\n",
    "K = 10\n",
    "anime_id = str(found_anime_key)\n",
    "\n",
    "nearest_neighbors = nearest_neighbors(input_genres, K)\n",
    "print(f\"\\nRecommended Animes: \")\n",
    "print(\"------------------------\")\n",
    "no = 1\n",
    "for neighbor, percentage in nearest_neighbors:\n",
    "    print(f'{no}. {anime_dictionary[neighbor][0]}, ({percentage}% matched)')\n",
    "    no += 1     \n",
    "\n"
   ]
  },
  {
   "cell_type": "code",
   "execution_count": null,
   "id": "06b26dab",
   "metadata": {},
   "outputs": [],
   "source": []
  },
  {
   "cell_type": "code",
   "execution_count": null,
   "id": "42c6c0a8",
   "metadata": {},
   "outputs": [],
   "source": []
  },
  {
   "cell_type": "code",
   "execution_count": null,
   "id": "cd150ed2",
   "metadata": {},
   "outputs": [],
   "source": []
  }
 ],
 "metadata": {
  "kernelspec": {
   "display_name": "Python 3 (ipykernel)",
   "language": "python",
   "name": "python3"
  },
  "language_info": {
   "codemirror_mode": {
    "name": "ipython",
    "version": 3
   },
   "file_extension": ".py",
   "mimetype": "text/x-python",
   "name": "python",
   "nbconvert_exporter": "python",
   "pygments_lexer": "ipython3",
   "version": "3.9.7"
  }
 },
 "nbformat": 4,
 "nbformat_minor": 5
}
