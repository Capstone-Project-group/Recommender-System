{
 "cells": [
  {
   "cell_type": "markdown",
   "id": "553074f3",
   "metadata": {},
   "source": [
    "# Personalized Recommendation"
   ]
  },
  {
   "cell_type": "code",
   "execution_count": 20,
   "id": "e71b3a83",
   "metadata": {},
   "outputs": [
    {
     "name": "stdout",
     "output_type": "stream",
     "text": [
      "Bruno: Sanctum, [3, 4, 1, 5]\n",
      "Brang: Never Land, [1, 2, 3]\n",
      "Jackson: Wonder Land, [1, 2, 3]\n",
      "James: Ever Land, [1, 2, 3]\n"
     ]
    },
    {
     "ename": "TypeError",
     "evalue": "unhashable type: 'list'",
     "output_type": "error",
     "traceback": [
      "\u001b[0;31m---------------------------------------------------------------------------\u001b[0m",
      "\u001b[0;31mTypeError\u001b[0m                                 Traceback (most recent call last)",
      "\u001b[0;32m/var/folders/rt/ggn8jbgx17l3ym1h3whzgr2c0000gn/T/ipykernel_2789/939937805.py\u001b[0m in \u001b[0;36m<module>\u001b[0;34m\u001b[0m\n\u001b[1;32m     32\u001b[0m \u001b[0;34m\u001b[0m\u001b[0m\n\u001b[1;32m     33\u001b[0m \u001b[0musr\u001b[0m \u001b[0;34m=\u001b[0m \u001b[0;34m\"James\"\u001b[0m\u001b[0;34m\u001b[0m\u001b[0;34m\u001b[0m\u001b[0m\n\u001b[0;32m---> 34\u001b[0;31m \u001b[0musers\u001b[0m\u001b[0;34m.\u001b[0m\u001b[0mdeleteUser\u001b[0m\u001b[0;34m(\u001b[0m\u001b[0musr\u001b[0m\u001b[0;34m)\u001b[0m\u001b[0;34m\u001b[0m\u001b[0;34m\u001b[0m\u001b[0m\n\u001b[0m\u001b[1;32m     35\u001b[0m \u001b[0;34m\u001b[0m\u001b[0m\n\u001b[1;32m     36\u001b[0m \u001b[0mprint\u001b[0m\u001b[0;34m(\u001b[0m\u001b[0;34m\"Next\"\u001b[0m\u001b[0;34m)\u001b[0m\u001b[0;34m\u001b[0m\u001b[0;34m\u001b[0m\u001b[0m\n",
      "\u001b[0;32m/var/folders/rt/ggn8jbgx17l3ym1h3whzgr2c0000gn/T/ipykernel_2789/939937805.py\u001b[0m in \u001b[0;36mdeleteUser\u001b[0;34m(self, name)\u001b[0m\n\u001b[1;32m     11\u001b[0m \u001b[0;34m\u001b[0m\u001b[0m\n\u001b[1;32m     12\u001b[0m         \u001b[0;32mfor\u001b[0m \u001b[0muser\u001b[0m \u001b[0;32min\u001b[0m \u001b[0mself\u001b[0m\u001b[0;34m.\u001b[0m\u001b[0musers\u001b[0m\u001b[0;34m.\u001b[0m\u001b[0mitems\u001b[0m\u001b[0;34m(\u001b[0m\u001b[0;34m)\u001b[0m\u001b[0;34m:\u001b[0m\u001b[0;34m\u001b[0m\u001b[0;34m\u001b[0m\u001b[0m\n\u001b[0;32m---> 13\u001b[0;31m             \u001b[0;32mif\u001b[0m \u001b[0mself\u001b[0m\u001b[0;34m.\u001b[0m\u001b[0musers\u001b[0m\u001b[0;34m[\u001b[0m\u001b[0muser\u001b[0m\u001b[0;34m]\u001b[0m \u001b[0;34m==\u001b[0m \u001b[0mname\u001b[0m\u001b[0;34m:\u001b[0m\u001b[0;34m\u001b[0m\u001b[0;34m\u001b[0m\u001b[0m\n\u001b[0m\u001b[1;32m     14\u001b[0m                 \u001b[0mself\u001b[0m\u001b[0;34m.\u001b[0m\u001b[0musers\u001b[0m\u001b[0;34m[\u001b[0m\u001b[0muser\u001b[0m\u001b[0;34m]\u001b[0m\u001b[0;34m.\u001b[0m\u001b[0mpop\u001b[0m\u001b[0;34m(\u001b[0m\u001b[0;34m)\u001b[0m\u001b[0;34m\u001b[0m\u001b[0;34m\u001b[0m\u001b[0m\n\u001b[1;32m     15\u001b[0m \u001b[0;34m\u001b[0m\u001b[0m\n",
      "\u001b[0;31mTypeError\u001b[0m: unhashable type: 'list'"
     ]
    }
   ],
   "source": [
    "class Users:\n",
    "    def __init__(self, users = {}):\n",
    "        self.users = users\n",
    "        \n",
    "    def addNewUser(self, name):\n",
    "        self.users.update(name)\n",
    "        \n",
    "#     def deleteUser(self, name):\n",
    "#         if not self.users:\n",
    "#             return\n",
    "        \n",
    "#         for user in self.users.items():\n",
    "#             if self.users[user] == name:\n",
    "#                 self.users[user].pop()\n",
    "            \n",
    "    def showUsers(self):\n",
    "        for user, anime in self.users.items():\n",
    "            print(f'{user}: {anime[0]}, {anime[1][:]}')\n",
    "            \n",
    "\n",
    "newUsers = {\n",
    "    'Bruno': [\"Sanctum\", [3, 4, 1, 5]],\n",
    "    \"Brang\": [\"Never Land\", [1, 2, 3]],\n",
    "    \"Jackson\": [\"Wonder Land\", [1, 2, 3]],\n",
    "    \"James\": [\"Ever Land\", [1, 2, 3]]\n",
    "}\n",
    "\n",
    "users = Users(newUsers)\n",
    "users.showUsers()\n",
    "brangMai = {\"Brang Mai\": [\"Avatar: The Way of Water\",[0, 0, 1, 1, 1, 1, 0]]}\n",
    "users.addNewUser(brangMai)\n",
    "\n",
    "\n",
    "print(\"Next\")\n",
    "users.showUsers()\n",
    "\n",
    "\n",
    "\n",
    "    \n",
    "        "
   ]
  },
  {
   "cell_type": "code",
   "execution_count": null,
   "id": "70e72117",
   "metadata": {},
   "outputs": [],
   "source": []
  }
 ],
 "metadata": {
  "kernelspec": {
   "display_name": "Python 3 (ipykernel)",
   "language": "python",
   "name": "python3"
  },
  "language_info": {
   "codemirror_mode": {
    "name": "ipython",
    "version": 3
   },
   "file_extension": ".py",
   "mimetype": "text/x-python",
   "name": "python",
   "nbconvert_exporter": "python",
   "pygments_lexer": "ipython3",
   "version": "3.9.7"
  }
 },
 "nbformat": 4,
 "nbformat_minor": 5
}
