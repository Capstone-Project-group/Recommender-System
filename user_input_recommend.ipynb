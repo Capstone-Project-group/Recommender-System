{
 "cells": [
  {
   "cell_type": "code",
   "execution_count": 10,
   "id": "e5ebf1f6",
   "metadata": {},
   "outputs": [],
   "source": [
    "import re\n",
    "import json\n",
    "import pandas as pd\n",
    "\n",
    "anime_dictionary = json.load(open('anime_dictionary.json'))\n",
    "if not anime_dictionary:\n",
    "    print(\"anime_dictionary is not loading\")"
   ]
  },
  {
   "cell_type": "code",
   "execution_count": 17,
   "id": "efd2e98b",
   "metadata": {},
   "outputs": [],
   "source": [
    "# for i in anime_dictionary:\n",
    "#     anime_id = str(i)\n",
    "#     print(anime_dictionary[anime_id][0])\n"
   ]
  },
  {
   "cell_type": "markdown",
   "id": "63aa7693",
   "metadata": {},
   "source": [
    "# Search Word Pattern using regular expression"
   ]
  },
  {
   "cell_type": "code",
   "execution_count": 18,
   "id": "1233517b",
   "metadata": {},
   "outputs": [],
   "source": [
    "# sentence = \"Today is a beautiful sunny day in New York City\"\n",
    "# input_title = input(\"Enter an anime title: \")\n",
    "# pattern = re.compile([f'{input_title}'])\n",
    "\n",
    "# matches = pattern.finditer(sentence)\n",
    "# for match in matches:\n",
    "#     print(\"found match: \" + match)\n",
    "\n"
   ]
  },
  {
   "cell_type": "markdown",
   "id": "f39f5b35",
   "metadata": {},
   "source": [
    "# Search User Input anime Title from Anime Dictionary"
   ]
  },
  {
   "cell_type": "code",
   "execution_count": 19,
   "id": "0b92ccc5",
   "metadata": {},
   "outputs": [],
   "source": [
    "def search_input_title(title):\n",
    "    for i in anime_dictionary:\n",
    "        anime_id = str(i)\n",
    "        name = anime_dictionary[anime_id][0]\n",
    "        if title == name:\n",
    "            return i\n",
    "        elif input_title in name:\n",
    "            print(f'Do you want similar anime to \"{name}\"?')\n",
    "            agree = int(input('Enter 1 for YES or 0 for NO: '))\n",
    "            if agree:\n",
    "                return i   \n",
    "    return 0\n",
    "    "
   ]
  },
  {
   "cell_type": "markdown",
   "id": "95a3bfc3",
   "metadata": {},
   "source": [
    "# Calculate the anime genres distances "
   ]
  },
  {
   "cell_type": "markdown",
   "id": "486e731a",
   "metadata": {},
   "source": [
    " "
   ]
  },
  {
   "cell_type": "code",
   "execution_count": 20,
   "id": "54d4b885",
   "metadata": {},
   "outputs": [],
   "source": [
    "import operator\n",
    "from scipy import spatial\n",
    "\n",
    "def get_distance(anime_genres, anime_two):\n",
    "    genre_two = anime_two[1]\n",
    "    genre_similarity = spatial.distance.cosine(anime_genres, genre_two)\n",
    "    return genre_similarity\n"
   ]
  },
  {
   "cell_type": "markdown",
   "id": "68169c57",
   "metadata": {},
   "source": [
    "# K Nearest Neighbor ML Algorithm to get the most similar animes"
   ]
  },
  {
   "cell_type": "code",
   "execution_count": 21,
   "id": "751646f0",
   "metadata": {},
   "outputs": [],
   "source": [
    "def get_nearest_neighbors(anime_key: str, K: int):\n",
    "    distances = []\n",
    "    for anime in anime_dictionary:\n",
    "        if anime != anime_key:\n",
    "            dist = get_distance(anime_dictionary[anime_key][1], anime_dictionary[anime])\n",
    "            distances.append((anime, dist))\n",
    "    distances.sort(key=operator.itemgetter(1)) # Sort the distances of animes\n",
    "    neighbors = []\n",
    "    for i in range(K):\n",
    "        percent_matched = int(100 - distances[i][1])\n",
    "        neighbors.append((distances[i][0], percent_matched))\n",
    "    return neighbors\n"
   ]
  },
  {
   "cell_type": "markdown",
   "id": "bc490b9c",
   "metadata": {},
   "source": [
    "# KNN recomendation animes entry"
   ]
  },
  {
   "cell_type": "code",
   "execution_count": 22,
   "id": "60f1c774",
   "metadata": {},
   "outputs": [
    {
     "name": "stdout",
     "output_type": "stream",
     "text": [
      "Enter an anime title: School\n",
      "Do you want similar anime to \"School Rumble\"?\n",
      "Enter 1 for YES or 0 for NO: 1\n",
      "\n",
      "The most similar animes to School Rumble: \n",
      "------------------------------------------\n",
      "1. School Rumble Ichi Gakki Hoshuu (100% matched)\n",
      "2. School Rumble Ni Gakki (100% matched)\n",
      "3. The Samurai (100% matched)\n",
      "4. School Rumble San Gakki (100% matched)\n",
      "5. Hatsukoi Limited (100% matched)\n",
      "6. Megane na Kanojo (100% matched)\n",
      "7. Hori-san to Miyamura-kun (100% matched)\n",
      "8. Yamada-kun to 7-nin no Majo (OVA) (100% matched)\n",
      "9. San-biki no Koguma-san (100% matched)\n",
      "10. Karin (99% matched)\n"
     ]
    }
   ],
   "source": [
    "input_title = input(\"Enter an anime title: \")\n",
    "found_anime_key = search_input_title(input_title)\n",
    "\n",
    "# found_anime_key is an integer, but the used keys in anime_dictionary are strings\n",
    "if found_anime_key == 0: \n",
    "    print(f'{input_title} cannot be found')\n",
    "    \n",
    "else:\n",
    "    # print(anime_dictionary[str(found_anime_key)])\n",
    "    K = 10\n",
    "    anime_id = str(found_anime_key)\n",
    "    \n",
    "    nearest_neighbors = get_nearest_neighbors(anime_id, K)\n",
    "    print(f\"\\nThe most similar animes to {anime_dictionary[anime_id][0]}: \")\n",
    "    print(\"------------------------------------------\")\n",
    "    no = 1\n",
    "    for neighbor, percent_matched in nearest_neighbors:\n",
    "        print(f'{no}. {anime_dictionary[neighbor][0]} ({percent_matched}% matched)')\n",
    "        no += 1    \n",
    "    "
   ]
  },
  {
   "cell_type": "markdown",
   "id": "3f71b770",
   "metadata": {},
   "source": [
    "# Get recommendation by amime genres"
   ]
  },
  {
   "cell_type": "code",
   "execution_count": 8,
   "id": "b8b5e21f",
   "metadata": {},
   "outputs": [],
   "source": [
    "def nearest_neighbors(input_genres, K):\n",
    "    distances = []\n",
    "    for anime in anime_dictionary:\n",
    "        dist = get_distance(input_genres, anime_dictionary[anime])\n",
    "        distances.append((anime, dist))\n",
    "    distances.sort(key=operator.itemgetter(1)) # Sort the distances of animes\n",
    "    neighbors = []\n",
    "    for i in range(K):\n",
    "        percent_matched = int(100 - distances[i][1])\n",
    "        neighbors.append( (distances[i][0], percent_matched) )\n",
    "    return neighbors"
   ]
  },
  {
   "cell_type": "code",
   "execution_count": 9,
   "id": "157efaca",
   "metadata": {},
   "outputs": [
    {
     "name": "stdout",
     "output_type": "stream",
     "text": [
      "\n",
      "Recommended Animes: \n",
      "------------------------\n",
      "1. Witch Hunter Robin, (100% matched)\n",
      "2. Tokyo Babylon, (99% matched)\n",
      "3. Kishibe Rohan wa Ugokanai, (99% matched)\n",
      "4. Kara no Kyoukai 3: Tsuukaku Zanryuu, (99% matched)\n",
      "5. Noir, (99% matched)\n",
      "6. Switch, (99% matched)\n",
      "7. Yakushiji Ryouko no Kaiki Jikenbo, (99% matched)\n",
      "8. Durarara!!, (99% matched)\n",
      "9. Ore no Sora Keiji-hen, (99% matched)\n",
      "10. Anemone, (99% matched)\n"
     ]
    }
   ],
   "source": [
    "input_genres = [1, 0, 0, 0, 0, 0, 1, 0, 0, 0, 0, 0, 0, 0, 0, 0, 1, 0, 0, 0, 0, 1, 0, 1, 0, 0, 0, 0, 0, 0, 0, 0, 0, 0, 0, 0, 0, 0, 1, 0, 0, 0, 0]\n",
    "\n",
    "K = 10\n",
    "anime_id = str(found_anime_key)\n",
    "\n",
    "nearest_neighbors = nearest_neighbors(input_genres, K)\n",
    "print(f\"\\nRecommended Animes: \")\n",
    "print(\"------------------------\")\n",
    "no = 1\n",
    "for neighbor, percentage in nearest_neighbors:\n",
    "    print(f'{no}. {anime_dictionary[neighbor][0]}, ({percentage}% matched)')\n",
    "    no += 1     \n",
    "\n",
    "\n"
   ]
  },
  {
   "cell_type": "code",
   "execution_count": null,
   "id": "8cf29929",
   "metadata": {},
   "outputs": [],
   "source": []
  },
  {
   "cell_type": "code",
   "execution_count": null,
   "id": "ea308517",
   "metadata": {},
   "outputs": [],
   "source": []
  }
 ],
 "metadata": {
  "kernelspec": {
   "display_name": "Python 3 (ipykernel)",
   "language": "python",
   "name": "python3"
  },
  "language_info": {
   "codemirror_mode": {
    "name": "ipython",
    "version": 3
   },
   "file_extension": ".py",
   "mimetype": "text/x-python",
   "name": "python",
   "nbconvert_exporter": "python",
   "pygments_lexer": "ipython3",
   "version": "3.9.7"
  }
 },
 "nbformat": 4,
 "nbformat_minor": 5
}
